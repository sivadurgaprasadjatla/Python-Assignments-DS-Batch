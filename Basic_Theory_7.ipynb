{
  "nbformat": 4,
  "nbformat_minor": 0,
  "metadata": {
    "colab": {
      "provenance": []
    },
    "kernelspec": {
      "name": "python3",
      "display_name": "Python 3"
    },
    "language_info": {
      "name": "python"
    }
  },
  "cells": [
    {
      "cell_type": "markdown",
      "source": [
        "**1. What is the name of the feature responsible for generating Regex objects?**\n",
        "\n",
        "Answer : re.complie() function returns Regex Object"
      ],
      "metadata": {
        "id": "rY2DgVQVUxF3"
      }
    },
    {
      "cell_type": "markdown",
      "source": [
        "**2. Why do raw strings often appear in Regex objects?**\n",
        "\n",
        "Answer : Raw strings are used so that backslashes do not have to be escaped."
      ],
      "metadata": {
        "id": "bDZluBnJU_Zt"
      }
    },
    {
      "cell_type": "markdown",
      "source": [
        "**3. What is the return value of the search() method?**\n",
        "\n",
        "Answer: The search() method returns 1st Match objects."
      ],
      "metadata": {
        "id": "CZmHXJ6hVNT3"
      }
    },
    {
      "cell_type": "markdown",
      "source": [
        "**4. From a Match item, how do you get the actual strings that match the pattern?**\n",
        "\n",
        "Answer : By using group() method"
      ],
      "metadata": {
        "id": "3ZZQKmszVVv5"
      }
    },
    {
      "cell_type": "markdown",
      "source": [
        "**5. In the regex which created from the r'(\\d\\d\\d)-(\\d\\d\\d-\\d\\d\\d\\d)', what does group zero cover? Group 2? Group 1?**\n",
        "\n",
        "Answer : Group 0 is the entire match, group 1 covers the first set of parentheses, and group 2 covers the second set of parentheses."
      ],
      "metadata": {
        "id": "V58X9uj5VgHr"
      }
    },
    {
      "cell_type": "code",
      "source": [
        "import re\n",
        "\n",
        "res = re.search(r'(\\d\\d\\d)-(\\d\\d\\d-\\d\\d\\d\\d)','123-321-4567')\n",
        "\n",
        "print('the group(0) function result is ',res.group(0))\n",
        "\n",
        "print('the group(0) function result is ',res.group(1))\n",
        "\n",
        "print('the group(0) function result is ',res.group(2))"
      ],
      "metadata": {
        "colab": {
          "base_uri": "https://localhost:8080/"
        },
        "id": "HoN2oq6MU9P2",
        "outputId": "8180d950-78b0-4774-9f3a-3f56cb17892a"
      },
      "execution_count": 6,
      "outputs": [
        {
          "output_type": "stream",
          "name": "stdout",
          "text": [
            "the group(0) function result is  123-321-4567\n",
            "the group(0) function result is  123\n",
            "the group(0) function result is  321-4567\n"
          ]
        }
      ]
    },
    {
      "cell_type": "markdown",
      "source": [
        "**6. In standard expression syntax, parentheses and intervals have distinct meanings. How can you tell a regex that you want it to fit real parentheses and periods?**\n",
        "\n",
        "Answer : Periods and parentheses can be escaped with a backslash: ., (, and )."
      ],
      "metadata": {
        "id": "9St7eIKSWflv"
      }
    },
    {
      "cell_type": "markdown",
      "source": [
        "**7. The findall() method returns a string list or a list of string tuples. What causes it to return one of the two options?**\n",
        "\n",
        "Answer : list of matched strings"
      ],
      "metadata": {
        "id": "nirr4pU4XNHl"
      }
    },
    {
      "cell_type": "code",
      "source": [
        "s = 'abc abc abcde'\n",
        "\n",
        "res = re.findall('abc',s)\n",
        "\n",
        "print(res)"
      ],
      "metadata": {
        "colab": {
          "base_uri": "https://localhost:8080/"
        },
        "id": "80pd7wp2WISS",
        "outputId": "6eb8f8b9-33df-4502-d013-d74b9864cb7d"
      },
      "execution_count": 9,
      "outputs": [
        {
          "output_type": "stream",
          "name": "stdout",
          "text": [
            "['abc', 'abc', 'abc']\n"
          ]
        }
      ]
    },
    {
      "cell_type": "markdown",
      "source": [
        "**8. In standard expressions, what does the | character mean?**\n",
        "\n",
        "Answer : The | character signifies matching “either, or” between two groups."
      ],
      "metadata": {
        "id": "1kIXTYzJXW39"
      }
    },
    {
      "cell_type": "markdown",
      "source": [
        "**9. In regular expressions, what does the character stand for?**\n",
        "\n",
        "The ? character can either mean “match zero or one of the preceding group” or be used to signify nongreedy matching."
      ],
      "metadata": {
        "id": "9jHRUVgZXvrC"
      }
    },
    {
      "cell_type": "code",
      "source": [
        "s = 'i am siva, i am  engineer'\n",
        "\n",
        "a = re.findall('(am?)',s)\n",
        "\n",
        "print(a)\n"
      ],
      "metadata": {
        "colab": {
          "base_uri": "https://localhost:8080/"
        },
        "id": "EGlUDgFGXHv9",
        "outputId": "e0725de7-6a66-4fc2-cdcf-cebb8247a455"
      },
      "execution_count": 22,
      "outputs": [
        {
          "output_type": "stream",
          "name": "stdout",
          "text": [
            "['am', 'a', 'am']\n"
          ]
        }
      ]
    },
    {
      "cell_type": "markdown",
      "source": [
        "**10.In regular expressions, what is the difference between the + and * characters?** \n",
        "\n",
        "Answer : '+' for one ore more occurances of the given filter set where as '*' for zer or more occurances."
      ],
      "metadata": {
        "id": "4f9QEdgOZHtD"
      }
    },
    {
      "cell_type": "markdown",
      "source": [
        "**11. What is the difference between {4} and {4,5} in regular expression?**\n",
        "\n",
        "Answer : The + matches one or more. The * matches zero or more."
      ],
      "metadata": {
        "id": "pPZdAXOBZsYh"
      }
    },
    {
      "cell_type": "markdown",
      "source": [
        "**12. What do you mean by the \\d, \\w, and \\s shorthand character classes signify in regular expressions?**\n",
        "\n",
        "Answer : The \\d, \\w, and \\s shorthand character classes match a single digit, word, or space character, respectively."
      ],
      "metadata": {
        "id": "uFdk_qXgZ0ze"
      }
    },
    {
      "cell_type": "markdown",
      "source": [
        "**13. What do means by \\D, \\W, and \\S shorthand character classes signify in regular expressions?**\n",
        "\n",
        "Answer : The \\D, \\W, and \\S shorthand character classes match a single character that is not a digit, not a word, or not a  space character, respectively."
      ],
      "metadata": {
        "id": "18hG4iV5aIw8"
      }
    },
    {
      "cell_type": "markdown",
      "source": [
        "** 14. What is the difference between '.*?' and '.*?' **\n",
        "\n",
        "Answer : The .* performs a greedy match, and the .*? performs a nongreedy match."
      ],
      "metadata": {
        "id": "klwnmPinaXGG"
      }
    },
    {
      "cell_type": "markdown",
      "source": [
        "**15. What is the syntax for matching both numbers and lowercase letters with a character class?**\n",
        "\n",
        "Answer : Either [0-9a-z] or [a-z0-9]"
      ],
      "metadata": {
        "id": "I-iw38Juo6js"
      }
    },
    {
      "cell_type": "markdown",
      "source": [
        "**16. What is the procedure for making a normal expression in regax case insensitive?**\n",
        "\n",
        "Answr : Passing re.I or re.IGNORECASE as the second argument to re.compile() will make the matching case insensitive."
      ],
      "metadata": {
        "id": "LkjYaOhopEMW"
      }
    },
    {
      "cell_type": "markdown",
      "source": [
        "**17. What does the . character normally match? What does it match if re.DOTALL is passed as 2nd argument in re.compile()?**\n",
        "\n",
        " Answer :  The . character normally matches any character except the newline character. If re.DOTALL is passed as the second argument to re.compile(), then the dot will also match newline characters."
      ],
      "metadata": {
        "id": "B_zObmMLpXKE"
      }
    },
    {
      "cell_type": "markdown",
      "source": [
        "18. If numReg = re.compile(r'\\d+'), what will numRegex.sub('X', '11 drummers, 10 pipers, five rings, 4 hen') return?\n",
        "\n",
        "Answer : X drummers, X pipers, five rings, X hen"
      ],
      "metadata": {
        "id": "f3uyzg9-ppdO"
      }
    },
    {
      "cell_type": "code",
      "source": [
        "numReg = re.compile(r'\\d+')\n",
        "\n",
        "print(numReg.sub('X', '11 drummers, 10 pipers, five rings, 4 hen'))\n"
      ],
      "metadata": {
        "colab": {
          "base_uri": "https://localhost:8080/"
        },
        "id": "dF-BeVGrYO9w",
        "outputId": "94459189-3e25-400c-ee91-094ed2f67fe4"
      },
      "execution_count": 24,
      "outputs": [
        {
          "output_type": "stream",
          "name": "stdout",
          "text": [
            "X drummers, X pipers, five rings, X hen\n"
          ]
        }
      ]
    },
    {
      "cell_type": "markdown",
      "source": [
        "**19. What does passing re.VERBOSE as the 2nd argument to re.compile() allow to do?**\n",
        "\n",
        "Answer : The re.VERBOSE argument allows you to add whitespace and comments to the string passed to re.compile()."
      ],
      "metadata": {
        "id": "Mc8ifpVXqS0E"
      }
    },
    {
      "cell_type": "markdown",
      "source": [
        "**20. How would you write a regex that match a number with comma for every three digits? It must match the given following:**\n",
        "\n",
        "'42'\n",
        "\n",
        "'1,234'\n",
        "\n",
        "'6,368,745'\n",
        "\n",
        "but not the following:\n",
        "\n",
        "'12,34,567' (which has only two digits between the commas)\n",
        "'1234' (which lacks commas)\n",
        "\n",
        "\n",
        "Answer : re.compile(r'^\\d{1,3}(,\\d{3})*$') will create this regex, but other regex strings can produce a similar regular expression."
      ],
      "metadata": {
        "id": "OrYz7CnbrnGP"
      }
    },
    {
      "cell_type": "code",
      "source": [
        "c =re.compile(r'^\\d{1,3}(,\\d{3})*$')\n",
        "print(c.match('42'))\n",
        "print(c.match('6,361,123'))\n",
        "print(c.match('12,34,456')) "
      ],
      "metadata": {
        "colab": {
          "base_uri": "https://localhost:8080/"
        },
        "id": "x5tKxBymsjfG",
        "outputId": "992d6edd-749f-42c6-d34c-f663c4b2d84a"
      },
      "execution_count": 55,
      "outputs": [
        {
          "output_type": "stream",
          "name": "stdout",
          "text": [
            "<re.Match object; span=(0, 2), match='42'>\n",
            "<re.Match object; span=(0, 9), match='6,361,123'>\n",
            "None\n"
          ]
        }
      ]
    },
    {
      "cell_type": "markdown",
      "source": [
        "**21. How would you write a regex that matches the full name of someone whose last name is Watanabe? You can assume that the first name that comes before it will always be one word that begins with a capital letter. The regex must match the following:**\n",
        "\n",
        "'Haruto Watanabe'\n",
        "\n",
        "'Alice Watanabe'\n",
        "\n",
        "'RoboCop Watanabe'\n",
        "\n",
        "but not the following:\n",
        "\n",
        "'haruto Watanabe' (where the first name is not capitalized)\n",
        "\n",
        "'Mr. Watanabe' (where the preceding word has a nonletter character)\n",
        "\n",
        "'Watanabe' (which has no first name)\n",
        "\n",
        "'Haruto watanabe' (where Watanabe is not capitalized)\n"
      ],
      "metadata": {
        "id": "JUFxkSAyyMgH"
      }
    },
    {
      "cell_type": "code",
      "source": [
        "a = re.compile(r'([A-Z]\\w+)\\s(Watanabe)')\n",
        "print(a.match('Haruto Watanabe'))\n",
        "print(a.match('Mr. Watanabe'))\n",
        "print(a.match('Watanabe'))\n",
        "print(a.match('RoboCop Watanabe'))\n",
        "print(a.match('Haruto watanabe'))"
      ],
      "metadata": {
        "colab": {
          "base_uri": "https://localhost:8080/"
        },
        "id": "cagwNVEEvTgc",
        "outputId": "480f052c-7c74-481b-e7ee-96f301305d2d"
      },
      "execution_count": 60,
      "outputs": [
        {
          "output_type": "stream",
          "name": "stdout",
          "text": [
            "<re.Match object; span=(0, 15), match='Haruto Watanabe'>\n",
            "None\n",
            "None\n",
            "<re.Match object; span=(0, 16), match='RoboCop Watanabe'>\n",
            "None\n"
          ]
        }
      ]
    },
    {
      "cell_type": "markdown",
      "source": [
        "**22. How would you write a regex that matches a sentence where the first word is either Alice, Bob, or Carol; the second word is either eats, pets, or throws; the third word is apples, cats, or baseballs; and the sentence ends with a period? This regex should be case-insensitive. It must match the following:**\n",
        "\n",
        "'Alice eats apples.'\n",
        "\n",
        "'Bob pets cats.'\n",
        "\n",
        "'Carol throws baseballs.'\n",
        "\n",
        "'Alice throws Apples.'\n",
        "\n",
        "'BOB EATS CATS.'\n",
        "\n",
        "but not the following:\n",
        "\n",
        "'RoboCop eats apples.'\n",
        "\n",
        "'ALICE THROWS FOOTBALLS.'\n",
        "\n",
        "'Carol eats 7 cats.'\n"
      ],
      "metadata": {
        "id": "hVbwMc0S3f42"
      }
    },
    {
      "cell_type": "code",
      "source": [
        "a = re.compile( r'(Alice|Bob|Carol)\\s(eats|pets|throw)\\s(apples|cats|baseballs)' , re.IGNORECASE)\n",
        "\n",
        "print(a.match('Alice eats apples'))\n",
        "print(a.match('Bob pets cats'))\n",
        "print(a.match('Carol throws baseballs'))"
      ],
      "metadata": {
        "colab": {
          "base_uri": "https://localhost:8080/"
        },
        "id": "NiwE6DRs2e5m",
        "outputId": "31ae8766-e7f8-483b-d090-f73399b61781"
      },
      "execution_count": 70,
      "outputs": [
        {
          "output_type": "stream",
          "name": "stdout",
          "text": [
            "<re.Match object; span=(0, 17), match='Alice eats apples'>\n",
            "<re.Match object; span=(0, 13), match='Bob pets cats'>\n",
            "None\n"
          ]
        }
      ]
    }
  ]
}