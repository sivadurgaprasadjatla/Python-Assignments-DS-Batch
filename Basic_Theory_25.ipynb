{
  "nbformat": 4,
  "nbformat_minor": 0,
  "metadata": {
    "colab": {
      "provenance": []
    },
    "kernelspec": {
      "name": "python3",
      "display_name": "Python 3"
    },
    "language_info": {
      "name": "python"
    }
  },
  "cells": [
    {
      "cell_type": "markdown",
      "source": [
        "**1) . What is the difference between enclosing a list comprehension in square brackets and parentheses?**\n",
        "\n",
        "Answer : lsit comprehension with parathesess will provide generator comprehension. It will provide list elements without appended all the elemts of the code.where as list comprehensiom will give the list oncce all the elememts filled in the output list"
      ],
      "metadata": {
        "id": "nluWCdYtiXIy"
      }
    },
    {
      "cell_type": "markdown",
      "source": [
        "**2) What is the relationship between generators and iterators?**\n",
        "\n",
        "Answer :\n",
        "\n",
        "Iterator :\n",
        "Class is used to implement an iterator.\n",
        "\n",
        "Local Variables aren’t used here.     \n",
        "\n",
        "Iterators are used mostly to iterate or convert other objects to an iterator using iter() function.  \n",
        "\n",
        "Iterator uses iter() and next() functions \n",
        "\n",
        "Every iterator is not a generator\n",
        "\n",
        "\n",
        "Generator :\n",
        "\n",
        "Function is used to implement a generator.\n",
        "\n",
        "All the local variables before the yield function are stored. \n",
        "\n",
        "Generators are mostly used in loops to generate an iterator by returning all the values in the loop without affecting the iteration of the loop\n",
        "\n",
        "Generator uses yield keyword\n",
        "\n",
        "Every generator is an iterator\n"
      ],
      "metadata": {
        "id": "mpsLQ58fkfQ8"
      }
    },
    {
      "cell_type": "markdown",
      "source": [
        "**3) What are the signs that a function is a generator function?**\n",
        "\n",
        "Answer : the key word 'yield' will be used in function."
      ],
      "metadata": {
        "id": "xhUASkwNlZWa"
      }
    },
    {
      "cell_type": "markdown",
      "source": [
        "**4) What is the purpose of a yield statement?**\n",
        "\n",
        "Answer : To generate the generator function we need to use key word 'yeild' in the function."
      ],
      "metadata": {
        "id": "mRx9LzXvllyE"
      }
    },
    {
      "cell_type": "markdown",
      "source": [
        "**5) What is the relationship between map calls and list comprehensions? Make a comparison and contrast between the two.**\n",
        "\n",
        "Answer : \n",
        "\n",
        "List comprehension is more concise and easier to read as compared to map.\n",
        "\n",
        "List comprehension allows filtering. In map, we have no such facility. For example, to print all even numbers in range of 100, we can write [n for n in range(100) if n%2 == 0]. There is no alternate for it in map\n",
        "\n",
        "\n",
        "List comprehension are used when a list of results is required as map only returns a map object and does not return any list.\n",
        "\n",
        "List comprehension is faster than map when we need to evaluate expressions that are too long or complicated to express\n",
        "\n",
        "\n",
        "Map is faster in case of calling an already defined function (as no lambda is required)."
      ],
      "metadata": {
        "id": "6qUHNMvcl0cQ"
      }
    },
    {
      "cell_type": "code",
      "source": [],
      "metadata": {
        "id": "CSzj8MmHjbUZ"
      },
      "execution_count": null,
      "outputs": []
    }
  ]
}