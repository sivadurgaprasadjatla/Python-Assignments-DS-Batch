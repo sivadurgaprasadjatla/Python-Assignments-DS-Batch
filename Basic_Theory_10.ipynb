{
  "nbformat": 4,
  "nbformat_minor": 0,
  "metadata": {
    "colab": {
      "provenance": []
    },
    "kernelspec": {
      "name": "python3",
      "display_name": "Python 3"
    },
    "language_info": {
      "name": "python"
    }
  },
  "cells": [
    {
      "cell_type": "markdown",
      "source": [
        "**1. How do you distinguish between shutil.copy() and shutil.copytree()?**\n",
        "\n",
        "Answer : shutil.copy() for copy the single file where as shutil.copytree() is for copy the whole folder along with contents."
      ],
      "metadata": {
        "id": "2LHv6m66iO0p"
      }
    },
    {
      "cell_type": "markdown",
      "source": [
        "**2. What function is used to rename files??**\n",
        "\n",
        "Answer : os.rename(oldfilename,newfilename)"
      ],
      "metadata": {
        "id": "iHJfphJgivD4"
      }
    },
    {
      "cell_type": "markdown",
      "source": [
        "**3. What is the difference between the delete functions in the send2trash and shutil modules?**\n",
        "\n",
        "Answer : The send2trash functions will move a file or folder to the recycle bin, while shutil functions will permanently delete files and folders."
      ],
      "metadata": {
        "id": "syC4NBntjZP2"
      }
    },
    {
      "cell_type": "markdown",
      "source": [
        "**4.ZipFile objects have a close() method just like File objects’ close() method. What ZipFile method is equivalent to File objects’ open() method?**\n",
        "\n",
        "Answer : The zipfile.ZipFile() function is equivalent to the open() function; the first argument is the filename, and the second argument is the mode to open the ZIP file in (read, write, or append)."
      ],
      "metadata": {
        "id": "g0E6lmejn5uS"
      }
    },
    {
      "cell_type": "markdown",
      "source": [
        "**5. Create a program that searches a folder tree for files with a certain file extension (such as .pdf or .jpg). Copy these files from whatever location they are into a new folder.\n",
        "**\n",
        "\n",
        "\n"
      ],
      "metadata": {
        "id": "H5huxgu6oBxu"
      }
    },
    {
      "cell_type": "code",
      "source": [
        "import os, shutil\n",
        "\n",
        "def selectiveCopy(folder, extensions, destFolder):\n",
        "\tfolder = os.path.abspath(folder)\n",
        "\tdestFolder = os.path.abspath(destFolder)\n",
        "\tprint('Looking in', folder, 'for files with extensions of', ', '.join(extensions))\n",
        "\tfor foldername, subfolders, filenames in os.walk(folder):\n",
        "\t\tfor filename in filenames:\n",
        "\t\t\tname, extension = os.path.splitext(filename)\n",
        "\t\t\tif extension in extensions:\n",
        "\t\t\t\tfileAbsPath = foldername + os.path.sep + filename\n",
        "\t\t\t\tprint('Coping', fileAbsPath, 'to', destFolder)\n",
        "\t\t\t\tshutil.copy(fileAbsPath, destFolder)\n",
        "\n",
        "extensions = ['.pdf', '.jpg']\n",
        "folder = 'randomFolder'\n",
        "destFolder = 'selectiveFolder'\n",
        "selectiveCopy(folder, extensions, destFolder)"
      ],
      "metadata": {
        "id": "qeICLB_siulV"
      },
      "execution_count": null,
      "outputs": []
    }
  ]
}