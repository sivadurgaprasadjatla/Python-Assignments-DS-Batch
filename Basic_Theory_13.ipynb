{
  "nbformat": 4,
  "nbformat_minor": 0,
  "metadata": {
    "colab": {
      "provenance": []
    },
    "kernelspec": {
      "name": "python3",
      "display_name": "Python 3"
    },
    "language_info": {
      "name": "python"
    }
  },
  "cells": [
    {
      "cell_type": "markdown",
      "source": [
        "**1. What advantages do Excel spreadsheets have over CSV spreadsheets?**\n",
        "\n",
        "Answer : Excel file is easy to understand for the end user while csv file is not that much easy.excel also provides the user option for external linking of data from other sources and also the user can do custom add-ins.In Excel, spreadsheets can have values of data types other than strings; cells can have different fonts, sizes, or color settings; cells can have varying widths and heights; adjacent cells can be merged; and you can embed images and charts."
      ],
      "metadata": {
        "id": "K2pIyt3WBxD-"
      }
    },
    {
      "cell_type": "markdown",
      "source": [
        "**2.What do you pass to csv.reader() and csv.writer() to create reader and writer objects?**\n",
        "\n",
        "Answer : You pass a File object, obtained from a call to open()."
      ],
      "metadata": {
        "id": "UiE0FrNMCu-s"
      }
    },
    {
      "cell_type": "markdown",
      "source": [
        "**3. What modes do File objects for reader and writer objects need to be opened in?**\n",
        "\n",
        "Answer : File objects need to be opened in read-binary ('rb') for reader objects and write-binary ('wb') for writer objects."
      ],
      "metadata": {
        "id": "vvvOGMOOGpYM"
      }
    },
    {
      "cell_type": "markdown",
      "source": [
        "**4. What method takes a list argument and writes it to a CSV file?**\n",
        "\n",
        "The writerow() method"
      ],
      "metadata": {
        "id": "1qhhUc5zGyoc"
      }
    },
    {
      "cell_type": "markdown",
      "source": [
        "**5. What do the keyword arguments delimiter and line terminator do?**\n",
        "\n",
        "Answer : The delimiter argument changes the string used to separate cells in a row. The lineterminator argument changes the string used to separate rows."
      ],
      "metadata": {
        "id": "50P_l2jrG-6L"
      }
    },
    {
      "cell_type": "markdown",
      "source": [
        "**6. What function takes a string of JSON data and returns a Python data structure?**\n",
        "\n",
        "Answer : json.loads()"
      ],
      "metadata": {
        "id": "zgtmcW4gHXH0"
      }
    },
    {
      "cell_type": "markdown",
      "source": [
        "**7. What function takes a Python data structure and returns a string of JSON data?**\n",
        "\n",
        "Answer :json.dumps()"
      ],
      "metadata": {
        "id": "5O0valG7Hgpu"
      }
    },
    {
      "cell_type": "code",
      "source": [],
      "metadata": {
        "id": "62NLBuZfCssz"
      },
      "execution_count": null,
      "outputs": []
    }
  ]
}