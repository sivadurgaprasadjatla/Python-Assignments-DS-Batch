{
  "nbformat": 4,
  "nbformat_minor": 0,
  "metadata": {
    "colab": {
      "provenance": []
    },
    "kernelspec": {
      "name": "python3",
      "display_name": "Python 3"
    },
    "language_info": {
      "name": "python"
    }
  },
  "cells": [
    {
      "cell_type": "markdown",
      "source": [
        "**1. Why are functions advantageous to have in your programs?**\n",
        "\n",
        "- i. Avoid duplication and repetition of codes\n",
        "\n",
        "  ii. decompose  complex programs into simpler ones.\n",
        "  \n",
        "  iii. Improve clarity and readability of code.\n",
        "  \n",
        "  iv. reduces chances of error\n",
        "  \n",
        "  v. ease out modification of program\n",
        "  \n",
        "  vi. information hiding"
      ],
      "metadata": {
        "id": "VF44MszwLhFa"
      }
    },
    {
      "cell_type": "markdown",
      "source": [
        "**2. When does the code in a function run: when it's specified or when it's called?**\n",
        "\n",
        "the code in a function runs when it’s called."
      ],
      "metadata": {
        "id": "HZKdcwbYN9XR"
      }
    },
    {
      "cell_type": "markdown",
      "source": [
        "3. What statement creates a function?\n",
        "\n",
        "Answer : define function_name(arguments) :  this statement creates a function"
      ],
      "metadata": {
        "id": "3_AnUx6hOUGk"
      }
    },
    {
      "cell_type": "markdown",
      "source": [
        "**4. What is the difference between a function and a function call?**\n",
        "\n",
        "A function is procedure to achieve a particular result while function call is using this function to achieve that task."
      ],
      "metadata": {
        "id": "sEAz3I5XOgHP"
      }
    },
    {
      "cell_type": "markdown",
      "source": [
        "**5. How many global scopes are there in a Python program? How many local scopes?**\n",
        "\n",
        "The scope of a variable in python is that part of the code where it is visible.\n",
        "\n",
        "Four types of scopes in python: \n",
        "\n",
        "i>Local scope- variables declared inside function can only be utilized inside the function.\n",
        "\n",
        "ii>Global scope-variables declared outside any other python variable scope and hence can be utilized anywhere in the program.\n",
        "\n",
        "iii>Enclosed scope –variables which are not global or local, e.g,\n",
        "\n",
        "  >>> def red():\n",
        "       a=1\n",
        "     def blue():\n",
        "       b=2\n",
        "     print(a)\n",
        "     print(b)\n",
        "\n",
        "     blue()\n",
        "\n",
        "     print(a)\n",
        "  >>> red()\n",
        "\n",
        "In this code, ‘b’ has local scope in function ‘blue’, and ‘a’ has nonlocal scope in‘blue’.\n",
        "\n",
        "\n",
        "iv>Built in scope- The built-in scope has all the names that are loaded into python variable scope when we start the interpreter.\n",
        "\n",
        "e.g,print(),id()\n",
        "\n",
        "There are 1 global scope and 4 local scopes in python program.\n",
        "\n"
      ],
      "metadata": {
        "id": "w2YXo-cDPVIb"
      }
    },
    {
      "cell_type": "markdown",
      "source": [
        "**6. What happens to variables in a local scope when the function call returns?**\n",
        "\n",
        "-The local variables are destroyed when the function call returns and memory occupied by them  are freed for any other variables.\n"
      ],
      "metadata": {
        "id": "nZ2AWK2lReyg"
      }
    },
    {
      "cell_type": "markdown",
      "source": [
        "**7. What is the concept of a return value? Is it possible to have a return value in an expression?**\n",
        "\n",
        "Ans:- a return statement causes execution to leave the current subroutine and resume at the point in the code immediately after the instruction which called the subroutine, known as its return address. Yes, It is possible to have a return value in an expression,"
      ],
      "metadata": {
        "id": "IFRFRaNHRz4x"
      }
    },
    {
      "cell_type": "markdown",
      "source": [
        "**8. If a function does not have a return statement, what is the return value of a call to that function?**\n",
        "\n",
        "Answer : None"
      ],
      "metadata": {
        "id": "mIDPFgozSdtG"
      }
    },
    {
      "cell_type": "markdown",
      "source": [
        "**9. How do you make a function variable refer to the global variable? **\n",
        "\n",
        "Ans: We can use “global” keyword before the variable defined inside the function.\n",
        "\n"
      ],
      "metadata": {
        "id": "VyOeBVlpS_dq"
      }
    },
    {
      "cell_type": "markdown",
      "source": [
        "10. What is the data type of None?\n",
        "\n",
        "Ans: None is a data type of its own NoneType) and only None can be (None). None keyword is an object, and it is a data type of the class NoneType \n",
        "\n"
      ],
      "metadata": {
        "id": "W98yEP51TEMH"
      }
    },
    {
      "cell_type": "markdown",
      "source": [
        "**11. What does the sentence import areallyourpetsnamederic do?**\n",
        "\n",
        "This sentence imports the module “areallyourpetsnamederic “"
      ],
      "metadata": {
        "id": "j7lOQpUWTcJW"
      }
    },
    {
      "cell_type": "markdown",
      "source": [
        "**12. If you had a bacon() feature in a spam module, what would you call it after importing spam?**\n",
        "\n",
        "by using spam.balcon()"
      ],
      "metadata": {
        "id": "sxB2YiZ1T7W8"
      }
    },
    {
      "cell_type": "markdown",
      "source": [
        "**13. What can you do to save a programme from crashing if it encounters an error?**\n",
        "\n",
        "Answer : error handling can be used to notify the user of why the error occurred and gracefully exit the process that caused the error"
      ],
      "metadata": {
        "id": "iKQMPiVyUFsP"
      }
    },
    {
      "cell_type": "markdown",
      "source": [
        "**14. What is the purpose of the try clause? What is the purpose of the except clause?**\n",
        "\n",
        " The try block is used to check some code for errors i.e the code inside the try block will execute when there is no error in the program. Whereas the code inside the except block will execute whenever the program encounters some error in the preceding try block."
      ],
      "metadata": {
        "id": "iuWz7RBZUbD7"
      }
    },
    {
      "cell_type": "code",
      "source": [],
      "metadata": {
        "id": "pHGX9A2uN8Pz"
      },
      "execution_count": null,
      "outputs": []
    }
  ]
}