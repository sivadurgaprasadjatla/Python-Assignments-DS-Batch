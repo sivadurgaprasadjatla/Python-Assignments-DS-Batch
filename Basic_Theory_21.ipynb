{
  "nbformat": 4,
  "nbformat_minor": 0,
  "metadata": {
    "colab": {
      "provenance": []
    },
    "kernelspec": {
      "name": "python3",
      "display_name": "Python 3"
    },
    "language_info": {
      "name": "python"
    }
  },
  "cells": [
    {
      "cell_type": "markdown",
      "source": [
        "**1. Add the current date to the text file today.txt as a string.**\n"
      ],
      "metadata": {
        "id": "NO9JGOlz2c9R"
      }
    },
    {
      "cell_type": "code",
      "source": [
        "import datetime"
      ],
      "metadata": {
        "id": "Ps3JYR3U2ehy"
      },
      "execution_count": null,
      "outputs": []
    },
    {
      "cell_type": "code",
      "source": [
        "a = datetime.date.today()"
      ],
      "metadata": {
        "id": "TfkkSfDz28EC"
      },
      "execution_count": null,
      "outputs": []
    },
    {
      "cell_type": "code",
      "source": [
        "b = a.isoformat()\n",
        "print(b)"
      ],
      "metadata": {
        "colab": {
          "base_uri": "https://localhost:8080/"
        },
        "id": "ebZHK90-3B3r",
        "outputId": "2288a190-4b6d-45d1-f5f7-6b8137cf52b8"
      },
      "execution_count": null,
      "outputs": [
        {
          "output_type": "stream",
          "name": "stdout",
          "text": [
            "2023-04-27\n"
          ]
        }
      ]
    },
    {
      "cell_type": "code",
      "source": [
        "f = open('today.txt','w')\n",
        "\n",
        "f.write(b)\n",
        "\n",
        "f.close()"
      ],
      "metadata": {
        "id": "x7AoB2GR3jVm"
      },
      "execution_count": null,
      "outputs": []
    },
    {
      "cell_type": "markdown",
      "source": [
        "**2. Read the text file today.txt into the string today_string**"
      ],
      "metadata": {
        "id": "_ANc-Iii4ecv"
      }
    },
    {
      "cell_type": "code",
      "source": [
        "f = open('today.txt','r')\n",
        "\n",
        "today_string =f.read()\n",
        "\n",
        "f.close()"
      ],
      "metadata": {
        "id": "vLltstWz4eLD"
      },
      "execution_count": null,
      "outputs": []
    },
    {
      "cell_type": "code",
      "source": [
        "print((today_string))\n",
        "print(type(today_string))"
      ],
      "metadata": {
        "colab": {
          "base_uri": "https://localhost:8080/"
        },
        "id": "esYPPcch4XO_",
        "outputId": "53bd937a-60ba-4d5e-8150-73fda4b895cc"
      },
      "execution_count": null,
      "outputs": [
        {
          "output_type": "stream",
          "name": "stdout",
          "text": [
            "2023-04-27\n",
            "<class 'str'>\n"
          ]
        }
      ]
    },
    {
      "cell_type": "markdown",
      "source": [
        "**3. Parse the date from today_string.**\n"
      ],
      "metadata": {
        "id": "2Gqtiexq7QRY"
      }
    },
    {
      "cell_type": "code",
      "source": [
        "a = datetime.datetime.strptime(today_string,'%Y-%m-%d')\n",
        "\n",
        "print(type(a))"
      ],
      "metadata": {
        "colab": {
          "base_uri": "https://localhost:8080/"
        },
        "id": "5DuAXwRF4vHO",
        "outputId": "e5c22019-8286-47a6-839d-29a9192b0db7"
      },
      "execution_count": null,
      "outputs": [
        {
          "output_type": "stream",
          "name": "stdout",
          "text": [
            "<class 'datetime.datetime'>\n"
          ]
        }
      ]
    },
    {
      "cell_type": "markdown",
      "source": [
        "**7. Create a date object of your day of birth.**\n"
      ],
      "metadata": {
        "id": "RZRCDP1q7aPS"
      }
    },
    {
      "cell_type": "code",
      "source": [
        "date_of_birth = datetime.date(2000,1,4)"
      ],
      "metadata": {
        "id": "pgRy1Uiv5_bv"
      },
      "execution_count": null,
      "outputs": []
    },
    {
      "cell_type": "code",
      "source": [
        "print(date_of_birth)"
      ],
      "metadata": {
        "colab": {
          "base_uri": "https://localhost:8080/"
        },
        "id": "-Q5OgvBU7xF6",
        "outputId": "b2079a57-18c4-4b80-fb4b-9bbe48f98f8f"
      },
      "execution_count": null,
      "outputs": [
        {
          "output_type": "stream",
          "name": "stdout",
          "text": [
            "2000-01-04\n"
          ]
        }
      ]
    },
    {
      "cell_type": "markdown",
      "source": [
        "**8. What day of the week was your day of birth?**"
      ],
      "metadata": {
        "id": "NmS3J_8o79pu"
      }
    },
    {
      "cell_type": "code",
      "source": [
        "datetime.datetime.weekday(date_of_birth)"
      ],
      "metadata": {
        "colab": {
          "base_uri": "https://localhost:8080/"
        },
        "id": "8a9kSk6o75lS",
        "outputId": "bf07916d-7552-4d14-a924-4c1eead4a708"
      },
      "execution_count": null,
      "outputs": [
        {
          "output_type": "execute_result",
          "data": {
            "text/plain": [
              "1"
            ]
          },
          "metadata": {},
          "execution_count": 32
        }
      ]
    },
    {
      "cell_type": "code",
      "source": [
        "datetime.datetime.isoweekday(date_of_birth)"
      ],
      "metadata": {
        "colab": {
          "base_uri": "https://localhost:8080/"
        },
        "id": "dVR1J0iZ8JKg",
        "outputId": "87094875-8913-4999-aefa-af9aff0e2577"
      },
      "execution_count": null,
      "outputs": [
        {
          "output_type": "execute_result",
          "data": {
            "text/plain": [
              "2"
            ]
          },
          "metadata": {},
          "execution_count": 34
        }
      ]
    },
    {
      "cell_type": "markdown",
      "source": [
        "**9. When will you be (or when were you) 10,000 days old?**"
      ],
      "metadata": {
        "id": "lsfMzudP8ZcS"
      }
    },
    {
      "cell_type": "code",
      "source": [
        "b =date_of_birth + datetime.timedelta(days=10000)"
      ],
      "metadata": {
        "id": "1Hjeu3qn8NJV"
      },
      "execution_count": null,
      "outputs": []
    },
    {
      "cell_type": "code",
      "source": [
        "print(b)"
      ],
      "metadata": {
        "colab": {
          "base_uri": "https://localhost:8080/"
        },
        "id": "icNAwGdn8kY6",
        "outputId": "c632cce6-1040-4392-c864-2d90d5e9f89a"
      },
      "execution_count": null,
      "outputs": [
        {
          "output_type": "stream",
          "name": "stdout",
          "text": [
            "2027-05-22\n"
          ]
        }
      ]
    },
    {
      "cell_type": "code",
      "source": [
        "datetime.datetime.weekday(b)"
      ],
      "metadata": {
        "colab": {
          "base_uri": "https://localhost:8080/"
        },
        "id": "P03r_cV58vB8",
        "outputId": "1d265052-bab6-4c8d-d44f-d67f29766ea5"
      },
      "execution_count": null,
      "outputs": [
        {
          "output_type": "execute_result",
          "data": {
            "text/plain": [
              "5"
            ]
          },
          "metadata": {},
          "execution_count": 47
        }
      ]
    },
    {
      "cell_type": "code",
      "source": [
        "a = '2023-04-27'\n",
        "format = '%Y-%m-%d'\n",
        "a = datetime.datetime.strptime(a,format)\n",
        "b = a + datetime.timedelta(days =4)\n",
        "print(b)"
      ],
      "metadata": {
        "colab": {
          "base_uri": "https://localhost:8080/"
        },
        "id": "pZcN5JQH-T4H",
        "outputId": "1fb8632d-ac68-4b60-b733-b1df8c664b4f"
      },
      "execution_count": null,
      "outputs": [
        {
          "output_type": "stream",
          "name": "stdout",
          "text": [
            "2023-05-01 00:00:00\n"
          ]
        }
      ]
    },
    {
      "cell_type": "code",
      "source": [],
      "metadata": {
        "id": "aEOVYUZI-6Ht"
      },
      "execution_count": null,
      "outputs": []
    }
  ]
}