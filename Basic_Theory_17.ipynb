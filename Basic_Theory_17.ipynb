{
  "nbformat": 4,
  "nbformat_minor": 0,
  "metadata": {
    "colab": {
      "provenance": []
    },
    "kernelspec": {
      "name": "python3",
      "display_name": "Python 3"
    },
    "language_info": {
      "name": "python"
    }
  },
  "cells": [
    {
      "cell_type": "markdown",
      "source": [
        "**1. Assign the value 7 to the variable guess_me. Then, write the conditional tests (if, else, and elif) to print the string 'too low' if guess_me is less than 7, 'too high' if greater than 7, and 'just right' if equal to 7.**"
      ],
      "metadata": {
        "id": "Q2iEgLAVPeBW"
      }
    },
    {
      "cell_type": "code",
      "source": [
        "guess_me =7\n",
        "\n",
        "if guess_me <7:\n",
        "  print('too low')\n",
        "\n",
        "elif guess_me == 7:\n",
        "  print('just rights')\n",
        "\n",
        "else:\n",
        "  print('too high')"
      ],
      "metadata": {
        "colab": {
          "base_uri": "https://localhost:8080/"
        },
        "id": "UbsDxX1_PgeD",
        "outputId": "0c651155-12ee-4be5-950b-b3f2687ea32e"
      },
      "execution_count": 45,
      "outputs": [
        {
          "output_type": "stream",
          "name": "stdout",
          "text": [
            "just rights\n"
          ]
        }
      ]
    },
    {
      "cell_type": "markdown",
      "source": [
        "**2. Assign the value 7 to the variable guess_me and the value 1 to the variable start. Write a while loop that compares start with guess_me. Print too low if start is less than guess me. If start equals guess_me, print 'found it!' and exit the loop. If start is greater than guess_me, print 'oops' and exit the loop. Increment start at the end of the loop.**"
      ],
      "metadata": {
        "id": "t2YJIJzRP_4h"
      }
    },
    {
      "cell_type": "code",
      "source": [
        "guess_me =7\n",
        "start =1\n",
        "\n",
        "while True:\n",
        "  if guess_me >start:\n",
        "    print('its too low')\n",
        "\n",
        "  elif guess_me == start:\n",
        "    print('found it')\n",
        "\n",
        "  else :\n",
        "    print('OOPS')\n",
        "    break\n",
        "\n",
        "  start = start+1"
      ],
      "metadata": {
        "colab": {
          "base_uri": "https://localhost:8080/"
        },
        "id": "KyK_5kKzP8PM",
        "outputId": "70987b81-c0d4-4e05-f218-29bdc3aef017"
      },
      "execution_count": 47,
      "outputs": [
        {
          "output_type": "stream",
          "name": "stdout",
          "text": [
            "its too low\n",
            "its too low\n",
            "its too low\n",
            "its too low\n",
            "its too low\n",
            "its too low\n",
            "found it\n",
            "OOPS\n"
          ]
        }
      ]
    },
    {
      "cell_type": "markdown",
      "source": [
        "**3. Print the following values of the list [3, 2, 1, 0] using a for loop.**"
      ],
      "metadata": {
        "id": "nZQAfpPiRUDd"
      }
    },
    {
      "cell_type": "code",
      "source": [
        "for i in [3,2,1,0]:\n",
        "  print(i)"
      ],
      "metadata": {
        "colab": {
          "base_uri": "https://localhost:8080/"
        },
        "id": "TUBlADGWRHls",
        "outputId": "5353a6f5-dbaf-4a07-952f-f8c0a3fa285c"
      },
      "execution_count": 49,
      "outputs": [
        {
          "output_type": "stream",
          "name": "stdout",
          "text": [
            "3\n",
            "2\n",
            "1\n",
            "0\n"
          ]
        }
      ]
    },
    {
      "cell_type": "markdown",
      "source": [
        "**4. Use a list comprehension to make a list of the even numbers in range(10)**\n",
        "\n"
      ],
      "metadata": {
        "id": "8iJd_EBbR9S7"
      }
    },
    {
      "cell_type": "code",
      "source": [
        "even = [i for i in range(10) if i%2 ==0]\n",
        "\n",
        "print(even)"
      ],
      "metadata": {
        "colab": {
          "base_uri": "https://localhost:8080/"
        },
        "id": "wXuly05PRnFl",
        "outputId": "81500de8-09f5-479c-cf00-c4abb29efacb"
      },
      "execution_count": 51,
      "outputs": [
        {
          "output_type": "stream",
          "name": "stdout",
          "text": [
            "[0, 2, 4, 6, 8]\n"
          ]
        }
      ]
    },
    {
      "cell_type": "markdown",
      "source": [
        "**5. Use a dictionary comprehension to create the dictionary squares. Use range(10) to return the keys, and use the square of each key as its value.**\n",
        "\n"
      ],
      "metadata": {
        "id": "2n9Py7t2Sde-"
      }
    },
    {
      "cell_type": "code",
      "source": [
        "square = {i : 1**2 for i in range(10)}"
      ],
      "metadata": {
        "id": "-VoYe2XLSOx4"
      },
      "execution_count": 52,
      "outputs": []
    },
    {
      "cell_type": "code",
      "source": [
        "square"
      ],
      "metadata": {
        "colab": {
          "base_uri": "https://localhost:8080/"
        },
        "id": "RhxJ7gsqSq3M",
        "outputId": "6f2f3db5-1978-4494-9b4d-e7887dc4d833"
      },
      "execution_count": 53,
      "outputs": [
        {
          "output_type": "execute_result",
          "data": {
            "text/plain": [
              "{0: 1, 1: 1, 2: 1, 3: 1, 4: 1, 5: 1, 6: 1, 7: 1, 8: 1, 9: 1}"
            ]
          },
          "metadata": {},
          "execution_count": 53
        }
      ]
    },
    {
      "cell_type": "markdown",
      "source": [
        "**6. Construct the set odd from the odd numbers in the range using a set comprehension (10).**\n"
      ],
      "metadata": {
        "id": "ZZ5TAHWeURCx"
      }
    },
    {
      "cell_type": "code",
      "source": [
        "odd = {i for i in range(10) if i%2==1}\n",
        "\n",
        "print(odd)"
      ],
      "metadata": {
        "colab": {
          "base_uri": "https://localhost:8080/"
        },
        "id": "v1KbtQ2iSsfS",
        "outputId": "dc31a23e-a9c3-40cf-8b99-5ca2442d7ef3"
      },
      "execution_count": 54,
      "outputs": [
        {
          "output_type": "stream",
          "name": "stdout",
          "text": [
            "{1, 3, 5, 7, 9}\n"
          ]
        }
      ]
    },
    {
      "cell_type": "markdown",
      "source": [
        "**7. Use a generator comprehension to return the string 'Got ' and a number for the numbers in range(10). Iterate through this by using a for loop.**"
      ],
      "metadata": {
        "id": "QtuxO7LpUS8h"
      }
    },
    {
      "cell_type": "code",
      "source": [
        "gen = (('Got' + ' '+ str(i)) for i in range(10))"
      ],
      "metadata": {
        "id": "ZsvLCXKES_DO"
      },
      "execution_count": 62,
      "outputs": []
    },
    {
      "cell_type": "code",
      "source": [
        "for i in gen:\n",
        "  print(i)"
      ],
      "metadata": {
        "colab": {
          "base_uri": "https://localhost:8080/"
        },
        "id": "TtrHK-DpUrF4",
        "outputId": "ca950ec0-a3f9-431b-d10c-758ecfe6077c"
      },
      "execution_count": 63,
      "outputs": [
        {
          "output_type": "stream",
          "name": "stdout",
          "text": [
            "Got 0\n",
            "Got 1\n",
            "Got 2\n",
            "Got 3\n",
            "Got 4\n",
            "Got 5\n",
            "Got 6\n",
            "Got 7\n",
            "Got 8\n",
            "Got 9\n"
          ]
        }
      ]
    },
    {
      "cell_type": "markdown",
      "source": [
        "**8. Define a function called good that returns the list ['Harry', 'Ron', 'Hermione'].**\n"
      ],
      "metadata": {
        "id": "OcQ9oIu8VDPX"
      }
    },
    {
      "cell_type": "code",
      "source": [
        "def good():\n",
        "  return  ['Harry', 'Ron', 'Hermione']"
      ],
      "metadata": {
        "id": "bg78Qtq-Uy2Z"
      },
      "execution_count": 64,
      "outputs": []
    },
    {
      "cell_type": "code",
      "source": [
        "good()"
      ],
      "metadata": {
        "colab": {
          "base_uri": "https://localhost:8080/"
        },
        "id": "lguw5PXcVKdu",
        "outputId": "0c5141cc-689b-48b9-f2ed-a926515c1d41"
      },
      "execution_count": 65,
      "outputs": [
        {
          "output_type": "execute_result",
          "data": {
            "text/plain": [
              "['Harry', 'Ron', 'Hermione']"
            ]
          },
          "metadata": {},
          "execution_count": 65
        }
      ]
    },
    {
      "cell_type": "markdown",
      "source": [
        "**9. Define a generator function called get_odds that returns the odd numbers from range(10). Use a for loop to find and print the third value returned.**"
      ],
      "metadata": {
        "id": "_ZnkJqiwVTY6"
      }
    },
    {
      "cell_type": "code",
      "source": [
        "def get_odds():\n",
        "\n",
        "  for i in range(10):\n",
        "    if i%2 !=0:\n",
        "      yield i\n",
        "\n",
        "a =1\n",
        "for i in get_odds():\n",
        "  if a == 3:\n",
        "    print('the 3rd value is ', i)\n",
        "  a = a+1"
      ],
      "metadata": {
        "colab": {
          "base_uri": "https://localhost:8080/"
        },
        "id": "1uAwQnEOVLbq",
        "outputId": "ef8403f9-9e12-4a9f-b23c-67608b16c82d"
      },
      "execution_count": 74,
      "outputs": [
        {
          "output_type": "stream",
          "name": "stdout",
          "text": [
            "the 3rd value is  5\n"
          ]
        }
      ]
    },
    {
      "cell_type": "markdown",
      "source": [
        "**10. Define an exception called OopsException. Raise this exception to see what happens. Then write the code to catch this exception and print 'Caught an oops'.**\n"
      ],
      "metadata": {
        "id": "-1xR5JE1YLXV"
      }
    },
    {
      "cell_type": "code",
      "source": [
        "class OopsException(Exception):\n",
        "  pass"
      ],
      "metadata": {
        "id": "Tv-IKAYKX5yO"
      },
      "execution_count": 67,
      "outputs": []
    },
    {
      "cell_type": "code",
      "source": [
        "try:\n",
        "  raise OopsException ('caught an Oops')\n",
        "\n",
        "except OopsException as e:\n",
        "  print(e)"
      ],
      "metadata": {
        "colab": {
          "base_uri": "https://localhost:8080/"
        },
        "id": "SrO0HrUbYx5e",
        "outputId": "f6145d9e-7d75-4fd0-89b4-7a72d55bec37"
      },
      "execution_count": 69,
      "outputs": [
        {
          "output_type": "stream",
          "name": "stdout",
          "text": [
            "caught an Oops\n"
          ]
        }
      ]
    },
    {
      "cell_type": "markdown",
      "source": [
        "**11. Use zip() to make a dictionary called movies that pairs these lists: titles = ['Creature of Habit', 'Crewel Fate'] and plots = ['A nun turns into a monster', 'A haunted yarn shop'].**\n",
        "\n"
      ],
      "metadata": {
        "id": "iGOb5bOEZW7I"
      }
    },
    {
      "cell_type": "code",
      "source": [
        "titles = ['Creature of Habit', 'Crewel Fate']"
      ],
      "metadata": {
        "id": "mZAB7ZmHY8WB"
      },
      "execution_count": 70,
      "outputs": []
    },
    {
      "cell_type": "code",
      "source": [
        "\n",
        "plots = ['A nun turns into a monster', 'A haunted yarn shop']"
      ],
      "metadata": {
        "id": "SglIWgJVZaiV"
      },
      "execution_count": 71,
      "outputs": []
    },
    {
      "cell_type": "code",
      "source": [
        "movies = dict(zip(titles, plots))"
      ],
      "metadata": {
        "id": "zhWwAbABZcBo"
      },
      "execution_count": 72,
      "outputs": []
    },
    {
      "cell_type": "code",
      "source": [
        "movies"
      ],
      "metadata": {
        "colab": {
          "base_uri": "https://localhost:8080/"
        },
        "id": "0zTuD0E0Zdir",
        "outputId": "50ed0a90-efec-4642-f245-8930f4e94b83"
      },
      "execution_count": 73,
      "outputs": [
        {
          "output_type": "execute_result",
          "data": {
            "text/plain": [
              "{'Creature of Habit': 'A nun turns into a monster',\n",
              " 'Crewel Fate': 'A haunted yarn shop'}"
            ]
          },
          "metadata": {},
          "execution_count": 73
        }
      ]
    },
    {
      "cell_type": "code",
      "source": [],
      "metadata": {
        "id": "YdIQohqSZeGU"
      },
      "execution_count": null,
      "outputs": []
    }
  ]
}