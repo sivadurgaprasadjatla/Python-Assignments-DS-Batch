{
  "nbformat": 4,
  "nbformat_minor": 0,
  "metadata": {
    "colab": {
      "provenance": []
    },
    "kernelspec": {
      "name": "python3",
      "display_name": "Python 3"
    },
    "language_info": {
      "name": "python"
    }
  },
  "cells": [
    {
      "cell_type": "markdown",
      "source": [
        "**1. Make a class called Thing with no contents and print it. Then, create an object called example from this class and also print it. Are the printed values the same or different?**"
      ],
      "metadata": {
        "id": "C0-WK9Rqgwch"
      }
    },
    {
      "cell_type": "code",
      "source": [
        "class Thing :\n",
        "  pass"
      ],
      "metadata": {
        "id": "PqgqId7Jg2J5"
      },
      "execution_count": 93,
      "outputs": []
    },
    {
      "cell_type": "code",
      "source": [
        "print(Thing)"
      ],
      "metadata": {
        "colab": {
          "base_uri": "https://localhost:8080/"
        },
        "id": "-qnm_c1ohLmf",
        "outputId": "0d6fd14a-b6bd-4d48-ff8d-afecc653f455"
      },
      "execution_count": 94,
      "outputs": [
        {
          "output_type": "stream",
          "name": "stdout",
          "text": [
            "<class '__main__.Thing'>\n"
          ]
        }
      ]
    },
    {
      "cell_type": "code",
      "source": [
        "example = Thing()"
      ],
      "metadata": {
        "id": "qSWbwRaKhOGX"
      },
      "execution_count": 95,
      "outputs": []
    },
    {
      "cell_type": "code",
      "source": [
        "print(example)"
      ],
      "metadata": {
        "colab": {
          "base_uri": "https://localhost:8080/"
        },
        "id": "UyMiyIdUhTLd",
        "outputId": "79eea7d2-09c4-4534-a8a5-cb97e8ef6b4e"
      },
      "execution_count": 96,
      "outputs": [
        {
          "output_type": "stream",
          "name": "stdout",
          "text": [
            "<__main__.Thing object at 0x7fa331e07670>\n"
          ]
        }
      ]
    },
    {
      "cell_type": "markdown",
      "source": [
        "**2. Create a new class called Thing2 and add the value 'abc' to the letters class attribute. Letters should be printed.**\n"
      ],
      "metadata": {
        "id": "UbxhOrBYhXOz"
      }
    },
    {
      "cell_type": "code",
      "source": [
        "class Things2:\n",
        "  letter = 'abc'"
      ],
      "metadata": {
        "id": "GHmsnbUWhUPY"
      },
      "execution_count": 97,
      "outputs": []
    },
    {
      "cell_type": "code",
      "source": [
        "Things2.letter"
      ],
      "metadata": {
        "colab": {
          "base_uri": "https://localhost:8080/",
          "height": 35
        },
        "id": "Nf6LrJ8qhpbF",
        "outputId": "991fb2d6-dd55-4280-c65c-e1b4a394a9ff"
      },
      "execution_count": 100,
      "outputs": [
        {
          "output_type": "execute_result",
          "data": {
            "text/plain": [
              "'abc'"
            ],
            "application/vnd.google.colaboratory.intrinsic+json": {
              "type": "string"
            }
          },
          "metadata": {},
          "execution_count": 100
        }
      ]
    },
    {
      "cell_type": "markdown",
      "source": [
        "**3. Make yet another class called, of course, Thing3. This time, assign the value 'xyz' to an instance (object) attribute called letters. Print letters. Do you need to make an object from the class to do this?**\n"
      ],
      "metadata": {
        "id": "i29Oog_AtaKf"
      }
    },
    {
      "cell_type": "code",
      "source": [
        "class Thing3:\n",
        "  def __init__(self):\n",
        "    self.letter = 'xyz'"
      ],
      "metadata": {
        "id": "ZHG19Ms8htAA"
      },
      "execution_count": 107,
      "outputs": []
    },
    {
      "cell_type": "code",
      "source": [
        "Thing3.letter"
      ],
      "metadata": {
        "colab": {
          "base_uri": "https://localhost:8080/",
          "height": 166
        },
        "id": "_aSZ0NIAtpNE",
        "outputId": "713b1437-aa38-4e1b-9694-324a10098178"
      },
      "execution_count": 110,
      "outputs": [
        {
          "output_type": "error",
          "ename": "AttributeError",
          "evalue": "ignored",
          "traceback": [
            "\u001b[0;31m---------------------------------------------------------------------------\u001b[0m",
            "\u001b[0;31mAttributeError\u001b[0m                            Traceback (most recent call last)",
            "\u001b[0;32m<ipython-input-110-8ce01a7ac8c1>\u001b[0m in \u001b[0;36m<cell line: 1>\u001b[0;34m()\u001b[0m\n\u001b[0;32m----> 1\u001b[0;31m \u001b[0mThing3\u001b[0m\u001b[0;34m.\u001b[0m\u001b[0mletter\u001b[0m\u001b[0;34m\u001b[0m\u001b[0;34m\u001b[0m\u001b[0m\n\u001b[0m",
            "\u001b[0;31mAttributeError\u001b[0m: type object 'Thing3' has no attribute 'letter'"
          ]
        }
      ]
    },
    {
      "cell_type": "code",
      "source": [
        "a = Thing3()"
      ],
      "metadata": {
        "id": "JdAnVXDKtsZM"
      },
      "execution_count": 111,
      "outputs": []
    },
    {
      "cell_type": "code",
      "source": [
        "a.letter"
      ],
      "metadata": {
        "colab": {
          "base_uri": "https://localhost:8080/",
          "height": 35
        },
        "id": "C_5pgNJYtu28",
        "outputId": "0bcbeba9-bf56-4faf-c611-fa52fcc3dccc"
      },
      "execution_count": 113,
      "outputs": [
        {
          "output_type": "execute_result",
          "data": {
            "text/plain": [
              "'xyz'"
            ],
            "application/vnd.google.colaboratory.intrinsic+json": {
              "type": "string"
            }
          },
          "metadata": {},
          "execution_count": 113
        }
      ]
    },
    {
      "cell_type": "markdown",
      "source": [
        "**4. Create an Element class with the instance attributes name, symbol, and number. Create a class object with the values 'Hydrogen,' 'H,' and 1.**\n"
      ],
      "metadata": {
        "id": "8mkb-9YeurYB"
      }
    },
    {
      "cell_type": "code",
      "source": [
        "class Element :\n",
        "  def __init__(self,name,symbol,number):\n",
        "    self.name = name\n",
        "    self.symbol = symbol\n",
        "    self.number = number\n",
        "    \n"
      ],
      "metadata": {
        "id": "nLGgl00Ytwpc"
      },
      "execution_count": 114,
      "outputs": []
    },
    {
      "cell_type": "code",
      "source": [
        "b= Element('Hydrogen','H',1)"
      ],
      "metadata": {
        "id": "yw2YdnIFvJZY"
      },
      "execution_count": 115,
      "outputs": []
    },
    {
      "cell_type": "markdown",
      "source": [
        "**5. Make a dictionary with these keys and values: 'name': 'Hydrogen', 'symbol': 'H', 'number': 1. Then, create an object called hydrogen from class Element using this dictionary.**\n"
      ],
      "metadata": {
        "id": "TJk-SypXva8g"
      }
    },
    {
      "cell_type": "code",
      "source": [
        "d ={'name':'Hydrogen','symbol':'H','number':1}\n",
        "\n",
        "c = Element(d['name'],d['symbol'],d['number'])"
      ],
      "metadata": {
        "id": "QBZH6ePDvRhb"
      },
      "execution_count": 117,
      "outputs": []
    },
    {
      "cell_type": "code",
      "source": [
        "c.name"
      ],
      "metadata": {
        "colab": {
          "base_uri": "https://localhost:8080/",
          "height": 35
        },
        "id": "vCW3vtGLvs2p",
        "outputId": "23e092db-d1be-4d85-8273-1c9f88cf97fb"
      },
      "execution_count": 118,
      "outputs": [
        {
          "output_type": "execute_result",
          "data": {
            "text/plain": [
              "'Hydrogen'"
            ],
            "application/vnd.google.colaboratory.intrinsic+json": {
              "type": "string"
            }
          },
          "metadata": {},
          "execution_count": 118
        }
      ]
    },
    {
      "cell_type": "code",
      "source": [
        "c.symbol"
      ],
      "metadata": {
        "colab": {
          "base_uri": "https://localhost:8080/",
          "height": 35
        },
        "id": "v_w12U0Qv7zW",
        "outputId": "2472ee81-e844-4009-f87f-d62c4ac0425b"
      },
      "execution_count": 119,
      "outputs": [
        {
          "output_type": "execute_result",
          "data": {
            "text/plain": [
              "'H'"
            ],
            "application/vnd.google.colaboratory.intrinsic+json": {
              "type": "string"
            }
          },
          "metadata": {},
          "execution_count": 119
        }
      ]
    },
    {
      "cell_type": "code",
      "source": [
        "c.number"
      ],
      "metadata": {
        "colab": {
          "base_uri": "https://localhost:8080/"
        },
        "id": "t0NXs-Vkv-Ng",
        "outputId": "8b2815db-827d-4613-fc10-c5af134d7b71"
      },
      "execution_count": 120,
      "outputs": [
        {
          "output_type": "execute_result",
          "data": {
            "text/plain": [
              "1"
            ]
          },
          "metadata": {},
          "execution_count": 120
        }
      ]
    },
    {
      "cell_type": "markdown",
      "source": [
        "**6. For the Element class, define a method called dump() that prints the values of the object’s attributes (name, symbol, and number). Create the hydrogen object from this new definition and use dump() to print its attributes.**\n"
      ],
      "metadata": {
        "id": "tifvCuzswPvG"
      }
    },
    {
      "cell_type": "code",
      "source": [
        "class Element :\n",
        "  def __init__(self,name,number,symbol):\n",
        "    self.name =name\n",
        "    self.number = number\n",
        "    self.symbol =symbol\n",
        "\n",
        "  def dump(self):\n",
        "    print(self.name)\n",
        "    print(self.number)\n",
        "    print(self.symbol)"
      ],
      "metadata": {
        "id": "BnJJEA-Iv_Ln"
      },
      "execution_count": 121,
      "outputs": []
    },
    {
      "cell_type": "code",
      "source": [
        "Hyd = Element(**d)"
      ],
      "metadata": {
        "id": "7TYdXiKLwpUY"
      },
      "execution_count": 122,
      "outputs": []
    },
    {
      "cell_type": "code",
      "source": [
        "Hyd.dump()"
      ],
      "metadata": {
        "colab": {
          "base_uri": "https://localhost:8080/"
        },
        "id": "LtjrkrO0xAxw",
        "outputId": "d2e75b2f-045f-4219-f985-8b90b4451715"
      },
      "execution_count": 123,
      "outputs": [
        {
          "output_type": "stream",
          "name": "stdout",
          "text": [
            "Hydrogen\n",
            "1\n",
            "H\n"
          ]
        }
      ]
    },
    {
      "cell_type": "markdown",
      "source": [
        "**7. Call print(hydrogen). In the definition of Element, change the name of method dump to __str__, create a new hydrogen object, and call print(hydrogen) again.**\n"
      ],
      "metadata": {
        "id": "sDYweXg2xZvH"
      }
    },
    {
      "cell_type": "code",
      "source": [
        "class Element :\n",
        "  def __init__(self,name,number,symbol):\n",
        "    self.name =name\n",
        "    self.number = number\n",
        "    self.symbol =symbol\n",
        "\n",
        "  def str(self):\n",
        "    print(self.name)\n",
        "    print(self.number)\n",
        "    print(self.symbol)"
      ],
      "metadata": {
        "id": "CZEQqYstxC5f"
      },
      "execution_count": 124,
      "outputs": []
    },
    {
      "cell_type": "code",
      "source": [
        "Hyd = Element(**d)"
      ],
      "metadata": {
        "id": "yh0QvL75xeR0"
      },
      "execution_count": 125,
      "outputs": []
    },
    {
      "cell_type": "code",
      "source": [
        "Hyd.str()"
      ],
      "metadata": {
        "colab": {
          "base_uri": "https://localhost:8080/"
        },
        "id": "FTqdq3IkxgmX",
        "outputId": "16985274-2127-4c84-c79e-6b397eb151fd"
      },
      "execution_count": 127,
      "outputs": [
        {
          "output_type": "stream",
          "name": "stdout",
          "text": [
            "Hydrogen\n",
            "1\n",
            "H\n"
          ]
        }
      ]
    },
    {
      "cell_type": "markdown",
      "source": [
        "**8. Modify Element to make the attributes name, symbol, and number private. Define a getter property for each to return its value.**\n"
      ],
      "metadata": {
        "id": "vBfeOIz3xtGm"
      }
    },
    {
      "cell_type": "code",
      "source": [
        "class Element:\n",
        "        def __init__(self, name, symbol, number):\n",
        "            self.__name = name\n",
        "            self.__symbol = symbol\n",
        "            self.__number = number\n",
        "        @property\n",
        "        def name(self):\n",
        "            return self.__name\n",
        "        @property\n",
        "        def symbol(self):\n",
        "            return self.__symbol\n",
        "        @property\n",
        "        def number(self):\n",
        "            return self.__number"
      ],
      "metadata": {
        "id": "I1qv_Gn-xh5I"
      },
      "execution_count": 128,
      "outputs": []
    },
    {
      "cell_type": "markdown",
      "source": [
        "**9. Define three classes: Bear, Rabbit, and Octothorpe. For each, define only one method: eats(). This should return 'berries' (Bear), 'clover' (Rabbit), or 'campers' (Octothorpe). Create one object from each and print what it eats.**\n"
      ],
      "metadata": {
        "id": "-4Eqz_nXzK0E"
      }
    },
    {
      "cell_type": "code",
      "source": [
        "class Bear:\n",
        "        def eats(self):\n",
        "            return 'berries'\n",
        "class Rabbit:\n",
        "     def eats(self):\n",
        "        return 'clover'\n",
        "class Octothorpe:\n",
        "     def eats(self):\n",
        "            return 'campers'"
      ],
      "metadata": {
        "id": "QmQkfciIx_0r"
      },
      "execution_count": 1,
      "outputs": []
    },
    {
      "cell_type": "markdown",
      "source": [
        "**10. Define these classes: Laser, Claw, and SmartPhone. Each has only one method: does(). This returns 'disintegrate' (Laser), 'crush' (Claw), or 'ring' (SmartPhone). Then, define the class Robot that has one instance (object) of each of these. Define a does() method for the Robot that prints what its component objects do.**"
      ],
      "metadata": {
        "id": "DlCwrIlUkRQC"
      }
    },
    {
      "cell_type": "code",
      "source": [
        "class Laser:\n",
        "    def does(self):\n",
        "             return 'disintegrate'\n",
        "class Claw:\n",
        "     def does(self):\n",
        "            return 'crush'\n",
        "\n",
        "class SmartPhone:\n",
        "     def does(self):\n",
        "            return 'ring'\n",
        "\n",
        "class Robot:\n",
        "    def __init__(self):\n",
        "            self.laser = Laser()\n",
        "            self.claw = Claw()\n",
        "            self.smartphone = SmartPhone()\n",
        "    def does(self):\n",
        "            return '''I have many attachments:\n",
        "            My laser, to %s.\n",
        "            My claw, to %s.\n",
        "            My smartphone, to %s.''' % (\n",
        "            self.laser.does(),\n",
        "            self.claw.does(),\n",
        "            self.smartphone.does() )"
      ],
      "metadata": {
        "id": "lk1TX61TkQUQ"
      },
      "execution_count": 2,
      "outputs": []
    },
    {
      "cell_type": "code",
      "source": [],
      "metadata": {
        "id": "TtnTJLxalDSZ"
      },
      "execution_count": null,
      "outputs": []
    }
  ]
}