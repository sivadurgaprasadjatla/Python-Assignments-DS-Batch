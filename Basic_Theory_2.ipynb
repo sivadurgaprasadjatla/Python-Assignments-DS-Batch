{
  "nbformat": 4,
  "nbformat_minor": 0,
  "metadata": {
    "colab": {
      "provenance": []
    },
    "kernelspec": {
      "name": "python3",
      "display_name": "Python 3"
    },
    "language_info": {
      "name": "python"
    }
  },
  "cells": [
    {
      "cell_type": "markdown",
      "source": [
        "**1.What are the two values of the Boolean data type? How do you write them?**\n",
        "\n",
        "Answer : There are two data types 1) True 2)False"
      ],
      "metadata": {
        "id": "WBDSKztkM0-d"
      }
    },
    {
      "cell_type": "markdown",
      "source": [
        "**2. What are the three different types of Boolean operators?**\n",
        "\n",
        "Answer : \n",
        "\n",
        "1) And Operator :- Provides results that contain both or all keywords\n",
        "\n",
        "\n",
        "2) Or Operator :- Provides results that contain either keyword\n",
        "\n",
        "\n",
        "3) NOT or AND NOT :- Provides results that contain the first keyword but not the second"
      ],
      "metadata": {
        "id": "VgCsSDDNNOiW"
      }
    },
    {
      "cell_type": "markdown",
      "source": [
        "**3. Make a list of each Boolean operator's truth tables (i.e. every possible combination of Boolean values for the operator and what it evaluate ).**\n",
        "\n",
        "\n",
        "**And Operator :**\n",
        "\n",
        "1) True And True = True\n",
        "\n",
        "2) True and False = False\n",
        "\n",
        "3)False And True = False\n",
        "\n",
        "4) False And Flase = Flase\n",
        "\n",
        "**OR Operator :**\n",
        "\n",
        "1) True or True = True\n",
        "\n",
        "2) True or False = True\n",
        "\n",
        "3) False or True = True\n",
        "\n",
        "4) Flase or Flase = False\n",
        "\n",
        "**Not Operator :**\n",
        "\n",
        "1) Flase and not False = False\n",
        "\n",
        "2) True and not True = False\n",
        "\n",
        "3) False and not True = False\n",
        "\n",
        "4) True and not False = Flase"
      ],
      "metadata": {
        "id": "y7OFOjTUOJ4M"
      }
    },
    {
      "cell_type": "markdown",
      "source": [
        "**4. What are the values of the following expressions?**\n",
        "\n",
        "**(5 > 4) and (3 == 5)** = True and False = False\n",
        "\n",
        "\n",
        "** not (5 > 4) ** = not True = False\n",
        "\n",
        "\n",
        "**(5 > 4) or (3 == 5)**  = True or False = True\n",
        "\n",
        "\n",
        "**not ((5 > 4) or (3 == 5)) ** =not True or false = False or False = False\n",
        "\n",
        "\n",
        "**(True and True) and (True == False)**  = True and False = False\n",
        "\n",
        "\n",
        "(not False) or (not True)  =True or False = True\n"
      ],
      "metadata": {
        "id": "f_GAaq89QTKr"
      }
    },
    {
      "cell_type": "markdown",
      "source": [
        "**5. What are the six comparison operators?**\n",
        "\n",
        "1) is equal to( == )\n",
        "\n",
        "2) is not equal to (!=)\n",
        "\n",
        "3) Greate Than (>)\n",
        "\n",
        "4) less Than (<)\n",
        "\n",
        "5) Gretaer Than or equl (>=)\n",
        "\n",
        "6) less than or equal (<=)"
      ],
      "metadata": {
        "id": "k6I4JnkfSX-S"
      }
    },
    {
      "cell_type": "markdown",
      "source": [
        "**6. How do you tell the difference between the equal to and assignment operators?Describe a condition and when you would use one.**\n",
        "\n",
        "Answer : Assignment(=) variable is used to assigh the value to the variable where as eqaul operator is to check the condtion.\n",
        "\n",
        "Ex: to assign value into variabl 'a', a = 10\n",
        "to check the conditing , 4 == 5"
      ],
      "metadata": {
        "id": "EE1GHGHZS66X"
      }
    },
    {
      "cell_type": "markdown",
      "source": [
        "**7. Identify the three blocks in this code:**\n",
        "spam = 0\n",
        "if spam == 10:\n",
        "print('eggs')\n",
        "if spam > 5:\n",
        "print('bacon')\n",
        "else:\n",
        "print('ham')\n",
        "print('spam')\n",
        "print('spam')\n",
        "\n",
        "\n"
      ],
      "metadata": {
        "id": "3JcsSyZgTv7S"
      }
    },
    {
      "cell_type": "code",
      "source": [
        "#Answer :\n",
        "\n",
        "spam = 0\n",
        "\n",
        "if spam == 10:\n",
        "     print('eggs')\n",
        "\n",
        "if spam > 5:\n",
        "     print('bacon')\n",
        "\n",
        "else:\n",
        "     print('ham')\n",
        "     print('spam')\n",
        "     print('spam')"
      ],
      "metadata": {
        "colab": {
          "base_uri": "https://localhost:8080/"
        },
        "id": "VgVcvg7YUbO_",
        "outputId": "96eebe1c-dd06-40d0-ecb1-6b3786933fdc"
      },
      "execution_count": 41,
      "outputs": [
        {
          "output_type": "stream",
          "name": "stdout",
          "text": [
            "ham\n",
            "spam\n",
            "spam\n"
          ]
        }
      ]
    },
    {
      "cell_type": "markdown",
      "source": [
        "**8. Write code that prints Hello if 1 is stored in spam, prints Howdy if 2 is stored in spam, and prints Greetings! if anything else is stored in spam.**"
      ],
      "metadata": {
        "id": "7a2xz7aFUXJd"
      }
    },
    {
      "cell_type": "code",
      "source": [
        "store = 1\n",
        "if store ==1 :\n",
        "  print('Hello')\n",
        "\n",
        "elif store ==2:\n",
        "  print('Howdy')\n",
        "\n",
        "else :\n",
        "  print('Greetings!')"
      ],
      "metadata": {
        "colab": {
          "base_uri": "https://localhost:8080/"
        },
        "id": "e-Chbq-aUpBS",
        "outputId": "0dff91e1-42b7-4941-bf68-a936a5cf8af8"
      },
      "execution_count": 44,
      "outputs": [
        {
          "output_type": "stream",
          "name": "stdout",
          "text": [
            "Hello\n"
          ]
        }
      ]
    },
    {
      "cell_type": "code",
      "source": [
        "# 9.If your programme is stuck in an endless loop, what keys you’ll press?\n",
        "\n",
        "#Answer :"
      ],
      "metadata": {
        "id": "M8RIj19bNGQe"
      },
      "execution_count": 45,
      "outputs": []
    },
    {
      "cell_type": "markdown",
      "source": [
        "**10. How can you tell the difference between break and continue?**\n",
        "\n",
        "Break key word will break the nearest loop while condition got satisfied where as continue key word will skip the step of excecution when condition got satisfied "
      ],
      "metadata": {
        "id": "gYPXebIcVkQ1"
      }
    },
    {
      "cell_type": "markdown",
      "source": [
        "**11. In a for loop, what is the difference between range(10), range(0, 10), and range(0, 10, 1)?**\n",
        "\n",
        "Answer : range(10) and range(0,10) will work same means ..iteration will start from 0 and go untill 10-1 with step size as 1\n",
        "\n",
        "range(1,10,2) : it will iterate numbers from 1 to 10 with step size 2 \n",
        "\n",
        "Please find the below codes to get clarity"
      ],
      "metadata": {
        "id": "WsTZUErKV8G3"
      }
    },
    {
      "cell_type": "code",
      "source": [
        "for i in range(10):\n",
        "  print(i, end = '  ')"
      ],
      "metadata": {
        "colab": {
          "base_uri": "https://localhost:8080/"
        },
        "id": "PH2jNskrWvpW",
        "outputId": "a20238f6-48ae-4cde-e43e-e6e44e347e99"
      },
      "execution_count": 48,
      "outputs": [
        {
          "output_type": "stream",
          "name": "stdout",
          "text": [
            "0  1  2  3  4  5  6  7  8  9  "
          ]
        }
      ]
    },
    {
      "cell_type": "code",
      "source": [
        "for i in range(0,10):\n",
        "  print(i, end = '  ')"
      ],
      "metadata": {
        "colab": {
          "base_uri": "https://localhost:8080/"
        },
        "id": "p3jA2WbVWzZV",
        "outputId": "0d953f8f-c3fe-4c94-b250-cfb9ec5ff576"
      },
      "execution_count": 50,
      "outputs": [
        {
          "output_type": "stream",
          "name": "stdout",
          "text": [
            "0  1  2  3  4  5  6  7  8  9  "
          ]
        }
      ]
    },
    {
      "cell_type": "code",
      "source": [
        "for i in range(1,10,2):\n",
        "  print(i,end = ' ')"
      ],
      "metadata": {
        "colab": {
          "base_uri": "https://localhost:8080/"
        },
        "id": "IJHaLuPTOpDO",
        "outputId": "b4628afb-93fe-4da4-d0f2-5af35ba847c2"
      },
      "execution_count": 51,
      "outputs": [
        {
          "output_type": "stream",
          "name": "stdout",
          "text": [
            "1 3 5 7 9 "
          ]
        }
      ]
    },
    {
      "cell_type": "markdown",
      "source": [
        "**12. Write a short program that prints the numbers 1 to 10 using a for loop. Then write an equivalent program that prints the numbers 1 to 10 using a while loop.**"
      ],
      "metadata": {
        "id": "JnJlHm8lXDeP"
      }
    },
    {
      "cell_type": "code",
      "source": [
        "# using for loop\n",
        "\n",
        "for i in range(1,11):\n",
        "  print(i, end = ' ')"
      ],
      "metadata": {
        "colab": {
          "base_uri": "https://localhost:8080/"
        },
        "id": "gE5FD2VqWMQQ",
        "outputId": "626c8137-4b65-4ea5-a972-ffa7f85bef21"
      },
      "execution_count": 52,
      "outputs": [
        {
          "output_type": "stream",
          "name": "stdout",
          "text": [
            "1 2 3 4 5 6 7 8 9 10 "
          ]
        }
      ]
    },
    {
      "cell_type": "code",
      "source": [
        "# while loop\n",
        "a = 1\n",
        "b = 10\n",
        "\n",
        "while a<=b :\n",
        "  print(a, end = ' ')\n",
        "  a = a+1 \n"
      ],
      "metadata": {
        "colab": {
          "base_uri": "https://localhost:8080/"
        },
        "id": "IiDpkYezXO5x",
        "outputId": "fad5a2d9-d37a-4d18-f9eb-b2a8075166f8"
      },
      "execution_count": 54,
      "outputs": [
        {
          "output_type": "stream",
          "name": "stdout",
          "text": [
            "1 2 3 4 5 6 7 8 9 10 "
          ]
        }
      ]
    },
    {
      "cell_type": "code",
      "source": [
        "# 13. If you had a function named bacon() inside a module named spam, how would you call it after importing spam?\n",
        "\n",
        "# Answer : we should import the bacon then we need to give module name.function name : spam.bacon()"
      ],
      "metadata": {
        "id": "PBpxixdIXavP"
      },
      "execution_count": 55,
      "outputs": []
    },
    {
      "cell_type": "code",
      "source": [],
      "metadata": {
        "id": "LOtr8FUuX3K3"
      },
      "execution_count": null,
      "outputs": []
    }
  ]
}