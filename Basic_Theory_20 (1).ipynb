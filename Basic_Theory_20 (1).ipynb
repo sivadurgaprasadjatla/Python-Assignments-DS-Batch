{
  "nbformat": 4,
  "nbformat_minor": 0,
  "metadata": {
    "colab": {
      "provenance": []
    },
    "kernelspec": {
      "name": "python3",
      "display_name": "Python 3"
    },
    "language_info": {
      "name": "python"
    }
  },
  "cells": [
    {
      "cell_type": "markdown",
      "source": [
        "**1. Set the variable test1 to the string 'This is a test of the emergency text system,' and save test1 to a file named test.txt.**\n"
      ],
      "metadata": {
        "id": "JS5ybk4RnEdH"
      }
    },
    {
      "cell_type": "code",
      "source": [
        "test1 = 'This is a test of the emergency text system'"
      ],
      "metadata": {
        "id": "egJNZx4JnH2A"
      },
      "execution_count": null,
      "outputs": []
    },
    {
      "cell_type": "code",
      "source": [
        "f = open('test1.txt','w+')"
      ],
      "metadata": {
        "id": "IGgPlnWloYAR"
      },
      "execution_count": null,
      "outputs": []
    },
    {
      "cell_type": "code",
      "source": [
        "f.write(test1)"
      ],
      "metadata": {
        "colab": {
          "base_uri": "https://localhost:8080/"
        },
        "id": "txT77tSmolBo",
        "outputId": "73430b04-c082-406a-cc3b-6a060608fdb1"
      },
      "execution_count": null,
      "outputs": [
        {
          "output_type": "execute_result",
          "data": {
            "text/plain": [
              "43"
            ]
          },
          "metadata": {},
          "execution_count": 8
        }
      ]
    },
    {
      "cell_type": "code",
      "source": [
        "f.close()"
      ],
      "metadata": {
        "id": "byMJjAHxpUTV"
      },
      "execution_count": null,
      "outputs": []
    },
    {
      "cell_type": "markdown",
      "source": [
        "**2. Read the contents of the file test.txt into the variable test2. Is there a difference between test 1 and test 2?**"
      ],
      "metadata": {
        "id": "Z2Ifi8gHpaEl"
      }
    },
    {
      "cell_type": "code",
      "source": [
        "f = open('test1.txt','r')\n",
        "\n",
        "test2 = f.read()\n",
        "\n",
        "f.close()\n",
        "\n",
        "print(test2)\n"
      ],
      "metadata": {
        "colab": {
          "base_uri": "https://localhost:8080/"
        },
        "id": "0DaDDPA1pVU8",
        "outputId": "a89e0c53-174b-401c-a71e-f5c5363d3516"
      },
      "execution_count": null,
      "outputs": [
        {
          "output_type": "stream",
          "name": "stdout",
          "text": [
            "This is a test of the emergency text system\n"
          ]
        }
      ]
    },
    {
      "cell_type": "code",
      "source": [
        "test1 == test2"
      ],
      "metadata": {
        "colab": {
          "base_uri": "https://localhost:8080/"
        },
        "id": "nOxuuyO2p858",
        "outputId": "101bc512-b476-466b-8511-81f839859f3f"
      },
      "execution_count": null,
      "outputs": [
        {
          "output_type": "execute_result",
          "data": {
            "text/plain": [
              "True"
            ]
          },
          "metadata": {},
          "execution_count": 12
        }
      ]
    },
    {
      "cell_type": "markdown",
      "source": [
        "**3. Create a CSV file called books.csv by using these lines:**\n",
        "\n",
        "title, author,year\n",
        "\n",
        "The Weirdstone of Brisingamen, Alan Garner,1960\n",
        "\n",
        "Perdido Street Station,China Miéville,2000\n",
        "\n",
        "Thud!, Terry Pratchett,2005\n",
        "\n",
        "The Spellman Files, Lisa Lutz,2007\n",
        "\n",
        "Small Gods, Terry Pratchett,1992\n"
      ],
      "metadata": {
        "id": "KOlzhKT3qM3l"
      }
    },
    {
      "cell_type": "code",
      "source": [
        "text = '''title, author,year\n",
        "\n",
        "The Weirdstone of Brisingamen, Alan Garner,1960\n",
        "\n",
        "Perdido Street Station,China Miéville,2000\n",
        "\n",
        "Thud!, Terry Pratchett,2005\n",
        "\n",
        "The Spellman Files, Lisa Lutz,2007\n",
        "\n",
        "Small Gods, Terry Pratchett,1992 '''"
      ],
      "metadata": {
        "id": "_ZB2bvvh02r_"
      },
      "execution_count": null,
      "outputs": []
    },
    {
      "cell_type": "code",
      "source": [
        "f = open('books.csv','w')\n",
        "\n",
        "f.write(text)\n",
        "\n",
        "f.close()"
      ],
      "metadata": {
        "id": "cnWQRxuqqFk1"
      },
      "execution_count": null,
      "outputs": []
    },
    {
      "cell_type": "code",
      "source": [
        "f = open('books.csv','r')\n",
        "for i in f.readlines():\n",
        "  print(i)"
      ],
      "metadata": {
        "colab": {
          "base_uri": "https://localhost:8080/"
        },
        "id": "pi9jlmhs1G5V",
        "outputId": "8b2fff67-322f-4891-daca-dde594bfcbb4"
      },
      "execution_count": null,
      "outputs": [
        {
          "output_type": "stream",
          "name": "stdout",
          "text": [
            "title, author,year\n",
            "\n",
            "\n",
            "\n",
            "The Weirdstone of Brisingamen, Alan Garner,1960\n",
            "\n",
            "\n",
            "\n",
            "Perdido Street Station,China Miéville,2000\n",
            "\n",
            "\n",
            "\n",
            "Thud!, Terry Pratchett,2005\n",
            "\n",
            "\n",
            "\n",
            "The Spellman Files, Lisa Lutz,2007\n",
            "\n",
            "\n",
            "\n",
            "Small Gods, Terry Pratchett,1992 \n"
          ]
        }
      ]
    },
    {
      "cell_type": "code",
      "source": [],
      "metadata": {
        "id": "hxLEvtkq1bHt"
      },
      "execution_count": null,
      "outputs": []
    }
  ]
}