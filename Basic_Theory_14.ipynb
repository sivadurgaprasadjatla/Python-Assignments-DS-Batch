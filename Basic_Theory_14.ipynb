{
  "nbformat": 4,
  "nbformat_minor": 0,
  "metadata": {
    "colab": {
      "provenance": []
    },
    "kernelspec": {
      "name": "python3",
      "display_name": "Python 3"
    },
    "language_info": {
      "name": "python"
    }
  },
  "cells": [
    {
      "cell_type": "markdown",
      "source": [
        "**1. What does RGBA stand for?**\n",
        "\n",
        "An RGBA value is a tuple of 4 integers, each ranging from 0 to 255. The four integers correspond to the amount of red, green, blue, and alpha (transparency) in the color. Its useed in matplotlib \n"
      ],
      "metadata": {
        "id": "CcOr4MW8ZhIQ"
      }
    },
    {
      "cell_type": "markdown",
      "source": [
        "**2. From the Pillow module, how do you get the RGBA value of any images?**\n",
        "\n",
        "Answer :A function call to ImageColor.getcolor('CornflowerBlue', 'RGBA') will return (100, 149, 237, 255), the RGBA value for that color."
      ],
      "metadata": {
        "id": "HP3sAik3atd0"
      }
    },
    {
      "cell_type": "markdown",
      "source": [
        "**3. What is a box tuple, and how does it work?**"
      ],
      "metadata": {
        "id": "EkUvHzkCcMdL"
      }
    },
    {
      "cell_type": "markdown",
      "source": [
        "**4. Use your image and load in notebook then, How can you find out the width and height of an Image object?**\n",
        "\n",
        "Answer: imageObj.size is a tuple of two integers, the width and the height.\n"
      ],
      "metadata": {
        "id": "G23sShCJc4GT"
      }
    },
    {
      "cell_type": "markdown",
      "source": [
        "\n",
        "**5. What method would you call to get Image object for a 100×100 image, excluding the lower-left quarter of it?**\n",
        "\n",
        "imageObj.crop((0, 50, 50, 50)). Notice that you are passing a box tuple to crop(), not four separate integer arguments.\n",
        "\n"
      ],
      "metadata": {
        "id": "likeh52Ednhg"
      }
    },
    {
      "cell_type": "markdown",
      "source": [
        "**6. After making changes to an Image object, how could you save it as an image file?**\n",
        "\n",
        "Call the imageObj.save('new_filename.png') method of the Image object.\n",
        "\n"
      ],
      "metadata": {
        "id": "_fWCaHXcdtNa"
      }
    },
    {
      "cell_type": "markdown",
      "source": [
        "**7. What module contains Pillow’s shape-drawing code?**\n",
        "\n",
        "The ImageDraw module contains code to draw on images.\n",
        "\n"
      ],
      "metadata": {
        "id": "boqnZvfSdv1b"
      }
    },
    {
      "cell_type": "markdown",
      "source": [
        "**8. Image objects do not have drawing methods. What kind of object does? How do you get this kind of object?**\n",
        "\n",
        "ImageDraw objects have shape-drawing methods such as point(), line(), or rectangle(). They are returned by passing the Image object to the ImageDraw.Draw() function."
      ],
      "metadata": {
        "id": "6ZR8Rg73dzAZ"
      }
    },
    {
      "cell_type": "code",
      "source": [],
      "metadata": {
        "id": "X8zu4scIaZAw"
      },
      "execution_count": null,
      "outputs": []
    }
  ]
}