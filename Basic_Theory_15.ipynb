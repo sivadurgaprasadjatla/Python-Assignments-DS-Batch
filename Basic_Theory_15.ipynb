{
  "nbformat": 4,
  "nbformat_minor": 0,
  "metadata": {
    "colab": {
      "provenance": []
    },
    "kernelspec": {
      "name": "python3",
      "display_name": "Python 3"
    },
    "language_info": {
      "name": "python"
    }
  },
  "cells": [
    {
      "cell_type": "markdown",
      "source": [
        "1.How many seconds are in an hour? Use the interactive interpreter as a calculator and multiply the number of seconds in a minute (60) by the number of minutes in an hour (also 60)."
      ],
      "metadata": {
        "id": "Q-rRrxk-33xy"
      }
    },
    {
      "cell_type": "code",
      "source": [
        "60*60"
      ],
      "metadata": {
        "colab": {
          "base_uri": "https://localhost:8080/"
        },
        "id": "0N2O-79N35Fr",
        "outputId": "b54f2a2d-cd0d-441b-f953-bedd66ade250"
      },
      "execution_count": 1,
      "outputs": [
        {
          "output_type": "execute_result",
          "data": {
            "text/plain": [
              "3600"
            ]
          },
          "metadata": {},
          "execution_count": 1
        }
      ]
    },
    {
      "cell_type": "markdown",
      "source": [
        "2. Assign the result from the previous task (seconds in an hour) to a variable called seconds_per_hour."
      ],
      "metadata": {
        "id": "8KKC-Vq93-YP"
      }
    },
    {
      "cell_type": "code",
      "source": [
        "second_per_hour = 60*60"
      ],
      "metadata": {
        "id": "S1s8mfmw38mX"
      },
      "execution_count": 2,
      "outputs": []
    },
    {
      "cell_type": "markdown",
      "source": [
        "3. How many seconds do you think there are in a day? Make use of the variables seconds per hour and minutes per hour."
      ],
      "metadata": {
        "id": "isUs6X9c4IAL"
      }
    },
    {
      "cell_type": "code",
      "source": [
        "second_per_hour*24"
      ],
      "metadata": {
        "colab": {
          "base_uri": "https://localhost:8080/"
        },
        "id": "BIQ7YiUm4DBw",
        "outputId": "8316413c-d36a-435c-a7ba-cda96fbb6066"
      },
      "execution_count": 3,
      "outputs": [
        {
          "output_type": "execute_result",
          "data": {
            "text/plain": [
              "86400"
            ]
          },
          "metadata": {},
          "execution_count": 3
        }
      ]
    },
    {
      "cell_type": "markdown",
      "source": [
        "**4. Calculate seconds per day again, but this time save the result in a variable called seconds_per_day**"
      ],
      "metadata": {
        "id": "jXTlfE9D4UtI"
      }
    },
    {
      "cell_type": "code",
      "source": [
        "second_per_day = second_per_hour*24"
      ],
      "metadata": {
        "id": "Z3fBzHaV4P_X"
      },
      "execution_count": 4,
      "outputs": []
    },
    {
      "cell_type": "markdown",
      "source": [
        "5. Divide seconds_per_day by seconds_per_hour. Use floating-point (/) division."
      ],
      "metadata": {
        "id": "YaENLb404eW_"
      }
    },
    {
      "cell_type": "code",
      "source": [
        "second_per_day/second_per_hour"
      ],
      "metadata": {
        "colab": {
          "base_uri": "https://localhost:8080/"
        },
        "id": "DeA84DVI4d01",
        "outputId": "970105de-a7fa-4916-93ec-15309acd3fa2"
      },
      "execution_count": 5,
      "outputs": [
        {
          "output_type": "execute_result",
          "data": {
            "text/plain": [
              "24.0"
            ]
          },
          "metadata": {},
          "execution_count": 5
        }
      ]
    },
    {
      "cell_type": "markdown",
      "source": [
        "6. Divide seconds_per_day by seconds_per_hour, using integer (//) division. Did this number agree with the floating-point value from the previous question, aside from the final .0?"
      ],
      "metadata": {
        "id": "3TJEGxkb4skj"
      }
    },
    {
      "cell_type": "code",
      "source": [
        "second_per_day//second_per_hour"
      ],
      "metadata": {
        "colab": {
          "base_uri": "https://localhost:8080/"
        },
        "id": "fufBOpih4dRm",
        "outputId": "0e50ed5e-efd6-4fbb-dc0c-d76e7d064e04"
      },
      "execution_count": 6,
      "outputs": [
        {
          "output_type": "execute_result",
          "data": {
            "text/plain": [
              "24"
            ]
          },
          "metadata": {},
          "execution_count": 6
        }
      ]
    },
    {
      "cell_type": "markdown",
      "source": [
        "7. Write a generator, genPrimes, that returns the sequence of prime numbers on successive calls to its next() method: 2, 3, 5, 7, 11, ..."
      ],
      "metadata": {
        "id": "SwGDToc75OUA"
      }
    },
    {
      "cell_type": "code",
      "source": [
        "def genprimes():\n",
        "  n =2\n",
        "  last = n\n",
        "  primes =[]\n",
        "\n",
        "  while True:\n",
        "    for i in primes:\n",
        "      if n%i == 0:\n",
        "        n=n+1\n",
        "        break\n",
        "    else :\n",
        "      primes.append(i)\n",
        "      last =n\n",
        "      n=n+1\n",
        "      yield last\n"
      ],
      "metadata": {
        "id": "Svx0uB4m422A"
      },
      "execution_count": 8,
      "outputs": []
    },
    {
      "cell_type": "code",
      "source": [],
      "metadata": {
        "id": "m4ngBVDcAAov"
      },
      "execution_count": null,
      "outputs": []
    }
  ]
}