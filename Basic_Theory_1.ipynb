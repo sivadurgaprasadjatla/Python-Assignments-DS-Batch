{
  "nbformat": 4,
  "nbformat_minor": 0,
  "metadata": {
    "colab": {
      "provenance": []
    },
    "kernelspec": {
      "name": "python3",
      "display_name": "Python 3"
    },
    "language_info": {
      "name": "python"
    }
  },
  "cells": [
    {
      "cell_type": "markdown",
      "source": [
        "1. In the below elements which of them are values or an expression? eg:- values can be integer or string and expressions will be mathematical operators.\n",
        "\n",
        "(*)    \t    = operator(multiplication)\n",
        "\n",
        "'hello' \t= String(values)\n",
        "\n",
        "-87.8    \t= Integer(Value)\n",
        "\n",
        "(-)       \t= Operator(Minus)\n",
        "\n",
        "/       \t= Operator(divide)\n",
        "\n",
        "(+)\t        = Operator(Plus)\n",
        "\n",
        "6       \t=Integer(value)\n"
      ],
      "metadata": {
        "id": "1eRESS_fJ2JU"
      }
    },
    {
      "cell_type": "markdown",
      "source": [
        "**2. What is the difference between string and variable?**\n",
        "\n",
        "String is part of variable. String is the type of variable where it contains texted letters or words. Where as variable may be string, integer, floating Number, composite Number\n"
      ],
      "metadata": {
        "id": "-Chr8GHyKSMb"
      }
    },
    {
      "cell_type": "markdown",
      "source": [
        "**3. Describe three different data types.**\n",
        "\n",
        "Integers - All the numbers without any decimal values\n",
        "\n",
        "Strings - the words or letters . we need to mention string values in double quotes ''\n",
        "\n",
        "Floating NUmber - the nummbers with decimal values\n",
        "\n",
        "composite numbers - it has both Imaginary and real time numbers"
      ],
      "metadata": {
        "id": "v6tKH9-DKdfp"
      }
    },
    {
      "cell_type": "markdown",
      "source": [
        "**4. What is an expression made up of? What do all expressions do?**\n",
        "\n",
        "Expression made up of different types of operators. The combinations of different operators or operations  in one variable  is  called expression"
      ],
      "metadata": {
        "id": "wykf0ke7LJBP"
      }
    },
    {
      "cell_type": "markdown",
      "source": [
        "**5. This assignment statements, like spam = 10. What is the difference between an expression and a statement?**\n",
        "\n",
        "Expression is the combination of operators and operations where as statement is the only texted massage which will not run in the program. We will use # or “ ” symbols to use the statemants."
      ],
      "metadata": {
        "id": "Pjkpi88jLUl1"
      }
    },
    {
      "cell_type": "markdown",
      "source": [
        "6. After running the following code, what does the variable bacon contain?\n",
        "\n",
        "bacon = 22\n",
        "\n",
        "bacon + 1\n",
        "\n",
        "Answer : 22"
      ],
      "metadata": {
        "id": "6N_e7FYyLiKT"
      }
    },
    {
      "cell_type": "markdown",
      "source": [
        "**7. What should the values of the following two terms be?**\n",
        "\n",
        "'spam' + 'spamspam'\n",
        "\n",
        "'spam' * 3\n",
        "\n",
        "Answer : 'spamspamspam"
      ],
      "metadata": {
        "id": "O22Yb4TiLrEs"
      }
    },
    {
      "cell_type": "markdown",
      "source": [
        "**8. Why is eggs a valid variable name while 100 is invalid?**\n",
        "\n",
        "Ans :- Because In python the varable name accepted only in strings. The variable name doesn’t accept numerics, floats, decimals, any special characters except  place holder(_).\n"
      ],
      "metadata": {
        "id": "FfDRCAvlMINF"
      }
    },
    {
      "cell_type": "markdown",
      "source": [
        "**9. What three functions can be used to get the integer, floating-point number, or string version of a value?**\n",
        "\n",
        "Answer : Int(), float(),str()\n"
      ],
      "metadata": {
        "id": "a7knS0bcMRv9"
      }
    },
    {
      "cell_type": "markdown",
      "source": [
        "**10. Why does this expression cause an error? How can you fix it?**\n",
        "\n",
        "'I have eaten ' + 99 + ' burritos.'\n",
        "We cant do concatenation with string data type  with integer data type.we have to type cast integer value into string\n",
        "\n",
        "\n",
        "‘I have eaten’+ str(99)+’burritos’\n"
      ],
      "metadata": {
        "id": "iPFctH7lMf1l"
      }
    },
    {
      "cell_type": "code",
      "source": [],
      "metadata": {
        "id": "8HWJ0Y98L0oI"
      },
      "execution_count": null,
      "outputs": []
    }
  ]
}