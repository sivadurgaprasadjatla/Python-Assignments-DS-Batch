{
  "nbformat": 4,
  "nbformat_minor": 0,
  "metadata": {
    "colab": {
      "provenance": []
    },
    "kernelspec": {
      "name": "python3",
      "display_name": "Python 3"
    },
    "language_info": {
      "name": "python"
    }
  },
  "cells": [
    {
      "cell_type": "markdown",
      "source": [
        "**1. What exactly is []?**\n",
        "\n",
        "Ans: [] (foo-bar) is an empty list."
      ],
      "metadata": {
        "id": "DDmPiI28VsJX"
      }
    },
    {
      "cell_type": "markdown",
      "source": [
        "2. In a list of values stored in a variable called spam, how would you assign the value 'hello' as the third value? (Assume [2, 4, 6, 8, 10] are in spam.\n",
        "\n",
        "Ans: spam[2]=’hello’"
      ],
      "metadata": {
        "id": "P2v0YXLNVxYy"
      }
    },
    {
      "cell_type": "markdown",
      "source": [
        "**Let's pretend the spam includes the list ['a', 'b', 'c', 'd'] for the next three queries.**"
      ],
      "metadata": {
        "id": "DPLeV8iJWJCS"
      }
    },
    {
      "cell_type": "markdown",
      "source": [
        "** 3. What is the value of spam[int(int('3' * 2) / 11)]? **"
      ],
      "metadata": {
        "id": "TTaDYWuRWkC7"
      }
    },
    {
      "cell_type": "markdown",
      "source": [
        "Ans: d. background: ‘3’*2=’33’ .int(‘33’)=33.  33/11=3.int(3)=3.  Spam[3]=d."
      ],
      "metadata": {
        "id": "lqXtyZQsWr1K"
      }
    },
    {
      "cell_type": "markdown",
      "source": [
        "**4. What is the value of spam[-1]?**\n",
        "\n",
        " Answer : d. negative indices count from end."
      ],
      "metadata": {
        "id": "y568okO2WzR3"
      }
    },
    {
      "cell_type": "markdown",
      "source": [
        "**5. What is the value of spam[:2]?**\n",
        "\n",
        "Answer :  [‘a’,’b’]"
      ],
      "metadata": {
        "id": "Cl5NMDshXBXa"
      }
    },
    {
      "cell_type": "markdown",
      "source": [
        "**Let's pretend bacon has the list [3.14, 'cat,' 11, 'cat,' True] for the next three questions.**"
      ],
      "metadata": {
        "id": "HK7IRqPEWzCV"
      }
    },
    {
      "cell_type": "markdown",
      "source": [
        "**6. What is the value of bacon.index('cat')?**\n",
        "\n",
        "Answer : 1. gives value of 1st occurrence."
      ],
      "metadata": {
        "id": "c325nvJoXPkf"
      }
    },
    {
      "cell_type": "markdown",
      "source": [
        "**7. How does bacon.append(99) change the look of the list value in bacon?**\n",
        "\n",
        "Answer : adds value  at the end of list. Bacon=[3.14,’cat’,11,’cat’,True,99]\n",
        "\n"
      ],
      "metadata": {
        "id": "WllzgGdUXim9"
      }
    },
    {
      "cell_type": "markdown",
      "source": [
        "**8. How does bacon.remove('cat') change the look of the list in bacon?**\n",
        "\n",
        "Answer :1. Removes value of 1st occurrence. Bacon=[3.14 ,11,’cat’,True]"
      ],
      "metadata": {
        "id": "sUpaDEHIXw5A"
      }
    },
    {
      "cell_type": "markdown",
      "source": [
        "**9. What are the list concatenation and list replication operators?**"
      ],
      "metadata": {
        "id": "wMQofCpoX8T6"
      }
    },
    {
      "cell_type": "markdown",
      "source": [
        " List concatenation operator: + and replication operator: *"
      ],
      "metadata": {
        "id": "qTdo2NNTYENq"
      }
    },
    {
      "cell_type": "markdown",
      "source": [
        "**10. What is difference between the list methods append() and insert()?**\n",
        "\n",
        "append() adds values at the end of list while insert() adds values anywhere inside list as specified indices"
      ],
      "metadata": {
        "id": "r6z9CNu1YIjx"
      }
    },
    {
      "cell_type": "markdown",
      "source": [
        "**11. What are the two methods for removing items from a list?**\n",
        "\n",
        "Answer :  remove() list method and del statement"
      ],
      "metadata": {
        "id": "KwO9urtZYSEZ"
      }
    },
    {
      "cell_type": "markdown",
      "source": [
        "**12. Describe how list values and string values are identical.**\n",
        "\n",
        "Both lists and strings can be passed to len(), have indexes and slices, be used in for loops, be concatenated or replicated, and be used with the in and not in operators\n",
        "\n"
      ],
      "metadata": {
        "id": "wBn6krFUYeTH"
      }
    },
    {
      "cell_type": "markdown",
      "source": [
        "**13. What's the difference between tuples and lists?**\n",
        "\n",
        " Lists are mutable, i.e,values can be added, removed and changed from or in lists. Tuples are immutable. tuples uses () parenthesis and lists uses square [] brackets."
      ],
      "metadata": {
        "id": "c3psJupuYvtj"
      }
    },
    {
      "cell_type": "markdown",
      "source": [
        "**14. How do you type a tuple value that only contains the integer 42?**\n",
        "\n",
        " Answer : (42,).trailing comma is mandatory."
      ],
      "metadata": {
        "id": "GdwPyiPWY45M"
      }
    },
    {
      "cell_type": "markdown",
      "source": [
        "**15. How do you get a list value's tuple form? How do you get a tuple value's list form?**\n",
        "\n",
        "tuple() and list() functions respectively."
      ],
      "metadata": {
        "id": "ts6thEZiZDon"
      }
    },
    {
      "cell_type": "markdown",
      "source": [
        "**16. Variables that \"contain\" list values are not necessarily lists themselves. Instead, what do they contain?**\n",
        "\n",
        "Answer : They contain references to list values\n",
        "\n"
      ],
      "metadata": {
        "id": "7ab6ZTFKZXYd"
      }
    },
    {
      "cell_type": "markdown",
      "source": [
        "**17. How do you distinguish between copy.copy() and copy.deepcopy()?  **\n",
        "\n",
        "The copy.copy() function will do a shallow copy of a list, while the copy.deepcopy() function will do a deep copy of a list. That is, only copy .deepcopy() will duplicate any lists inside the list"
      ],
      "metadata": {
        "id": "G2vtlxKNaLw3"
      }
    }
  ]
}