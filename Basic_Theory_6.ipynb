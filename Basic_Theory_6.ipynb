{
  "nbformat": 4,
  "nbformat_minor": 0,
  "metadata": {
    "colab": {
      "provenance": []
    },
    "kernelspec": {
      "name": "python3",
      "display_name": "Python 3"
    },
    "language_info": {
      "name": "python"
    }
  },
  "cells": [
    {
      "cell_type": "markdown",
      "source": [
        "**1. What are escape characters, and how do you use them?**\n",
        "\n",
        "To insert characters that are illegal in a string, use an escape character.\n",
        "\n",
        "An escape character is a backslash \\ followed by the character you want to insert.\n",
        "\n",
        "An example of an illegal character is a double quote inside a string that is surrounded by double quotes:\n",
        "\n",
        "Ex:\n",
        "txt = \"We are the so-called \"Vikings\" from the north.\"\n",
        "\n",
        "Solution: txt = \"We are the so-called \\\"Vikings\\\" from the north.\""
      ],
      "metadata": {
        "id": "Xd8VAn8ZtxzG"
      }
    },
    {
      "cell_type": "code",
      "source": [
        "txt = \"We are the so-called \"Vikings\" from the north.\"\n",
        "print(txt)"
      ],
      "metadata": {
        "colab": {
          "base_uri": "https://localhost:8080/",
          "height": 131
        },
        "id": "QtueOypvvY-V",
        "outputId": "be3c9036-98d2-43ea-dafc-1391545b0c45"
      },
      "execution_count": 15,
      "outputs": [
        {
          "output_type": "error",
          "ename": "SyntaxError",
          "evalue": "ignored",
          "traceback": [
            "\u001b[0;36m  File \u001b[0;32m\"<ipython-input-15-485014d8dfdf>\"\u001b[0;36m, line \u001b[0;32m1\u001b[0m\n\u001b[0;31m    txt = \"We are the so-called \"Vikings\" from the north.\"\u001b[0m\n\u001b[0m                                 ^\u001b[0m\n\u001b[0;31mSyntaxError\u001b[0m\u001b[0;31m:\u001b[0m invalid syntax\n"
          ]
        }
      ]
    },
    {
      "cell_type": "code",
      "source": [
        "txt = \"We are the so-called \\'Vikings\\' from the north.\"\n",
        "print(txt)"
      ],
      "metadata": {
        "colab": {
          "base_uri": "https://localhost:8080/"
        },
        "id": "DtxYwRPwvZsY",
        "outputId": "4329e51e-50ec-4746-e909-80febec51b97"
      },
      "execution_count": 16,
      "outputs": [
        {
          "output_type": "stream",
          "name": "stdout",
          "text": [
            "We are the so-called 'Vikings' from the north.\n"
          ]
        }
      ]
    },
    {
      "cell_type": "code",
      "source": [
        "# some other escape characters\n",
        "\n",
        "#\\n - New Line\n",
        "#\\t - Tab\n",
        "#\\b - Back space\n",
        "#\\r - carriage return\n",
        "#\\\\ - Back slash"
      ],
      "metadata": {
        "id": "Db-W_c7xvcnf"
      },
      "execution_count": 22,
      "outputs": []
    },
    {
      "cell_type": "code",
      "source": [
        "# 2. What do the escape characters n and t stand for?\n",
        "\n",
        "#\\n  - for New ine\n",
        "#\\t - for tab space in given statement"
      ],
      "metadata": {
        "id": "ME1cXNbuxBGm"
      },
      "execution_count": 18,
      "outputs": []
    },
    {
      "cell_type": "code",
      "source": [
        "#3. What is the way to include backslash characters in a string?\n",
        "\n",
        "\"\"\"\n",
        "Ans3:-\n",
        "\n",
        "To include backslash character, we will use escape character \\ with a backslash character(\\).\n",
        "\n",
        "Example:-\n",
        "\n",
        "print(\"This is a backslash \\\\\")\n",
        "\n",
        "Output:-\n",
        "This is a backslash \\\n",
        "\n",
        "\"\"\""
      ],
      "metadata": {
        "colab": {
          "base_uri": "https://localhost:8080/",
          "height": 52
        },
        "id": "f0W2r_AMxTis",
        "outputId": "27ec9457-6206-4234-d1ed-f1d3129a35f8"
      },
      "execution_count": 23,
      "outputs": [
        {
          "output_type": "execute_result",
          "data": {
            "text/plain": [
              "'\\nAns3:-\\n\\nTo include backslash character, we will use escape character \\\\ with a backslash character(\\\\).\\n\\nExample:-\\n\\nprint(\"This is a backslash \\\\\")\\n\\nOutput:-\\nThis is a backslash \\n'"
            ],
            "application/vnd.google.colaboratory.intrinsic+json": {
              "type": "string"
            }
          },
          "metadata": {},
          "execution_count": 23
        }
      ]
    },
    {
      "cell_type": "code",
      "source": [
        "txt = \"This will insert one \\\\ (backslash).\"\n",
        "print(txt) "
      ],
      "metadata": {
        "colab": {
          "base_uri": "https://localhost:8080/"
        },
        "id": "1GPR60sdxjsy",
        "outputId": "58472182-64c0-4894-ec0a-fd8d61d65908"
      },
      "execution_count": 21,
      "outputs": [
        {
          "output_type": "stream",
          "name": "stdout",
          "text": [
            "This will insert one \\ (backslash).\n"
          ]
        }
      ]
    },
    {
      "cell_type": "code",
      "source": [
        "#4. The string \"Howl's Moving Castle\" is a correct value. Why isn't the single quote character\\\n",
        "#    in the word Howl's not escaped a problem?\n",
        "\n",
        "\"\"\"\n",
        "Ans4:-\n",
        "\n",
        "Here, we are using single quote character inside the double quoted string.That's why It didn't make any conflict\\\n",
        "with double quotes.\n",
        "\n",
        "s = \"Howl's Moving Castle\"  #It is a correct string value, didn't conflict with double quotes.\n",
        "\n",
        "s = 'Howl's Moving Castle'  #Here, It will generate SyntaxError\n",
        "\n",
        "\n",
        "\"\"\""
      ],
      "metadata": {
        "colab": {
          "base_uri": "https://localhost:8080/",
          "height": 70
        },
        "id": "7oML-FSYxqbo",
        "outputId": "9e266842-9be6-429b-c7be-153fbdab57f6"
      },
      "execution_count": 24,
      "outputs": [
        {
          "output_type": "execute_result",
          "data": {
            "text/plain": [
              "'\\nAns4:-\\n\\nHere, we are using single quote character inside the double quoted string.That\\'s why It didn\\'t make any conflictwith double quotes.\\n\\ns = \"Howl\\'s Moving Castle\"  #It is a correct string value, didn\\'t conflict with double quotes.\\n\\ns = \\'Howl\\'s Moving Castle\\'  #Here, It will generate SyntaxError\\n\\n\\n'"
            ],
            "application/vnd.google.colaboratory.intrinsic+json": {
              "type": "string"
            }
          },
          "metadata": {},
          "execution_count": 24
        }
      ]
    },
    {
      "cell_type": "code",
      "source": [
        "# 6. What are the values of the given expressions?\n",
        "#'Hello, world!'[1]\n",
        "#'Hello, world!'[0:5]\n",
        "#'Hello, world!'[:5]\n",
        "#'Hello, world!'[3:]\n"
      ],
      "metadata": {
        "id": "r5ZwLlJKyrSU"
      },
      "execution_count": 28,
      "outputs": []
    },
    {
      "cell_type": "code",
      "source": [
        "'Hello, world!'[1]"
      ],
      "metadata": {
        "colab": {
          "base_uri": "https://localhost:8080/",
          "height": 35
        },
        "id": "rJ_MvE8GzAci",
        "outputId": "74dfa724-270c-4794-e99a-17fe0d6de430"
      },
      "execution_count": 26,
      "outputs": [
        {
          "output_type": "execute_result",
          "data": {
            "text/plain": [
              "'e'"
            ],
            "application/vnd.google.colaboratory.intrinsic+json": {
              "type": "string"
            }
          },
          "metadata": {},
          "execution_count": 26
        }
      ]
    },
    {
      "cell_type": "code",
      "source": [
        "'Hello, world!'[0:5]"
      ],
      "metadata": {
        "colab": {
          "base_uri": "https://localhost:8080/",
          "height": 35
        },
        "id": "cD8agfU2zDjw",
        "outputId": "59ad5819-2168-4792-cc33-66e6192dca3c"
      },
      "execution_count": 27,
      "outputs": [
        {
          "output_type": "execute_result",
          "data": {
            "text/plain": [
              "'Hello'"
            ],
            "application/vnd.google.colaboratory.intrinsic+json": {
              "type": "string"
            }
          },
          "metadata": {},
          "execution_count": 27
        }
      ]
    },
    {
      "cell_type": "code",
      "source": [
        "'Hello, world!'[:5]"
      ],
      "metadata": {
        "colab": {
          "base_uri": "https://localhost:8080/",
          "height": 35
        },
        "id": "FU9Rtn5QzHCQ",
        "outputId": "9f27d026-06ac-41c7-ea04-07b308a9e635"
      },
      "execution_count": 29,
      "outputs": [
        {
          "output_type": "execute_result",
          "data": {
            "text/plain": [
              "'Hello'"
            ],
            "application/vnd.google.colaboratory.intrinsic+json": {
              "type": "string"
            }
          },
          "metadata": {},
          "execution_count": 29
        }
      ]
    },
    {
      "cell_type": "code",
      "source": [
        "'Hello, world!'[3:]"
      ],
      "metadata": {
        "colab": {
          "base_uri": "https://localhost:8080/",
          "height": 35
        },
        "id": "bQQX3aiHzKcG",
        "outputId": "539cc760-b76e-47e0-be79-01c3e37d3b90"
      },
      "execution_count": 30,
      "outputs": [
        {
          "output_type": "execute_result",
          "data": {
            "text/plain": [
              "'lo, world!'"
            ],
            "application/vnd.google.colaboratory.intrinsic+json": {
              "type": "string"
            }
          },
          "metadata": {},
          "execution_count": 30
        }
      ]
    },
    {
      "cell_type": "code",
      "source": [
        "'''\n",
        "7. What are the values of the following expressions?\n",
        "'Hello'.upper()\n",
        "'Hello'.upper().isupper()\n",
        "'Hello'.upper().lower()\n",
        "\n",
        "'''"
      ],
      "metadata": {
        "colab": {
          "base_uri": "https://localhost:8080/",
          "height": 35
        },
        "id": "cMXU9QuZzMda",
        "outputId": "520de1a7-69cf-4119-ea1b-137fcd58fae3"
      },
      "execution_count": 31,
      "outputs": [
        {
          "output_type": "execute_result",
          "data": {
            "text/plain": [
              "\"\\n7. What are the values of the following expressions?\\n'Hello'.upper()\\n'Hello'.upper().isupper()\\n'Hello'.upper().lower()\\n\\n\""
            ],
            "application/vnd.google.colaboratory.intrinsic+json": {
              "type": "string"
            }
          },
          "metadata": {},
          "execution_count": 31
        }
      ]
    },
    {
      "cell_type": "code",
      "source": [
        "'Hello'.upper()"
      ],
      "metadata": {
        "colab": {
          "base_uri": "https://localhost:8080/",
          "height": 35
        },
        "id": "5dh7YHzCzVrZ",
        "outputId": "4eb0619e-2fa9-4a41-e353-859d93d7729e"
      },
      "execution_count": 32,
      "outputs": [
        {
          "output_type": "execute_result",
          "data": {
            "text/plain": [
              "'HELLO'"
            ],
            "application/vnd.google.colaboratory.intrinsic+json": {
              "type": "string"
            }
          },
          "metadata": {},
          "execution_count": 32
        }
      ]
    },
    {
      "cell_type": "code",
      "source": [
        "'Hello'.upper().isupper()"
      ],
      "metadata": {
        "colab": {
          "base_uri": "https://localhost:8080/"
        },
        "id": "TanIKolZzXoA",
        "outputId": "889351d8-27d9-4f0d-935a-4101dc348e8a"
      },
      "execution_count": 33,
      "outputs": [
        {
          "output_type": "execute_result",
          "data": {
            "text/plain": [
              "True"
            ]
          },
          "metadata": {},
          "execution_count": 33
        }
      ]
    },
    {
      "cell_type": "code",
      "source": [
        "'Hello'.upper().lower()"
      ],
      "metadata": {
        "colab": {
          "base_uri": "https://localhost:8080/",
          "height": 35
        },
        "id": "RRFLwmy_zZI6",
        "outputId": "0175592f-d12d-43dc-bac4-101a5c085aeb"
      },
      "execution_count": 34,
      "outputs": [
        {
          "output_type": "execute_result",
          "data": {
            "text/plain": [
              "'hello'"
            ],
            "application/vnd.google.colaboratory.intrinsic+json": {
              "type": "string"
            }
          },
          "metadata": {},
          "execution_count": 34
        }
      ]
    },
    {
      "cell_type": "code",
      "source": [
        "'''\n",
        "\n",
        "8. What are the values of the following expressions?\n",
        "'Remember, remember, the fifth of July.'.split()\n",
        "'-'.join('There can only one.'.split())\n",
        "\n",
        "'''"
      ],
      "metadata": {
        "colab": {
          "base_uri": "https://localhost:8080/",
          "height": 35
        },
        "id": "6_KoYzjvzajA",
        "outputId": "98df0b1d-f619-4f1d-9663-5974223684f0"
      },
      "execution_count": 35,
      "outputs": [
        {
          "output_type": "execute_result",
          "data": {
            "text/plain": [
              "\"\\n\\n8. What are the values of the following expressions?\\n'Remember, remember, the fifth of July.'.split()\\n'-'.join('There can only one.'.split())\\n\\n\""
            ],
            "application/vnd.google.colaboratory.intrinsic+json": {
              "type": "string"
            }
          },
          "metadata": {},
          "execution_count": 35
        }
      ]
    },
    {
      "cell_type": "code",
      "source": [
        "'Remember, remember, the fifth of July.'.split()\n"
      ],
      "metadata": {
        "colab": {
          "base_uri": "https://localhost:8080/"
        },
        "id": "XGiUF84tzkzX",
        "outputId": "6453111a-8245-4437-f34e-2bc814a43291"
      },
      "execution_count": 37,
      "outputs": [
        {
          "output_type": "execute_result",
          "data": {
            "text/plain": [
              "['Remember,', 'remember,', 'the', 'fifth', 'of', 'July.']"
            ]
          },
          "metadata": {},
          "execution_count": 37
        }
      ]
    },
    {
      "cell_type": "code",
      "source": [
        "'-'.join('There can only one.'.split())"
      ],
      "metadata": {
        "colab": {
          "base_uri": "https://localhost:8080/",
          "height": 35
        },
        "id": "DkeaTiOuzmYp",
        "outputId": "560cb3f7-dce5-4cf1-fc0d-428707bf1cd4"
      },
      "execution_count": 38,
      "outputs": [
        {
          "output_type": "execute_result",
          "data": {
            "text/plain": [
              "'There-can-only-one.'"
            ],
            "application/vnd.google.colaboratory.intrinsic+json": {
              "type": "string"
            }
          },
          "metadata": {},
          "execution_count": 38
        }
      ]
    },
    {
      "cell_type": "code",
      "source": [
        "'-'.join('There can only one.')"
      ],
      "metadata": {
        "colab": {
          "base_uri": "https://localhost:8080/",
          "height": 35
        },
        "id": "nFFnnlsnzzff",
        "outputId": "859c5a10-4a41-43af-bdbe-f792efb516e3"
      },
      "execution_count": 40,
      "outputs": [
        {
          "output_type": "execute_result",
          "data": {
            "text/plain": [
              "'T-h-e-r-e- -c-a-n- -o-n-l-y- -o-n-e-.'"
            ],
            "application/vnd.google.colaboratory.intrinsic+json": {
              "type": "string"
            }
          },
          "metadata": {},
          "execution_count": 40
        }
      ]
    },
    {
      "cell_type": "code",
      "source": [
        "# 9. What are the methods for right-justifying, left-justifying, and centering a string?\n",
        "\n",
        "\"\"\"\n",
        "Ans9:-\n",
        "\n",
        "right-justifying string method = rjust()\n",
        "left-justifying string method =  ljust()\n",
        "centering a string method =      center()\n",
        "\n",
        "\"\"\""
      ],
      "metadata": {
        "colab": {
          "base_uri": "https://localhost:8080/",
          "height": 35
        },
        "id": "mkkD6G7Pz3Uj",
        "outputId": "0baf472f-8fb6-4c06-b4df-2fb1cd1091fb"
      },
      "execution_count": 41,
      "outputs": [
        {
          "output_type": "execute_result",
          "data": {
            "text/plain": [
              "'\\nAns9:-\\n\\nright-justifying string method = rjust()\\nleft-justifying string method =  ljust()\\ncentering a string method =      center()\\n\\n'"
            ],
            "application/vnd.google.colaboratory.intrinsic+json": {
              "type": "string"
            }
          },
          "metadata": {},
          "execution_count": 41
        }
      ]
    },
    {
      "cell_type": "code",
      "source": [
        "a = 'abc'\n",
        "\n",
        "print('ljust values is ', a.ljust(5,'*'))\n",
        "print('rjust value is ', a.rjust(5,'*'))\n",
        "print('center vaalue is ', a.center(5,'*'))"
      ],
      "metadata": {
        "colab": {
          "base_uri": "https://localhost:8080/"
        },
        "id": "fJtxaoa01Rn7",
        "outputId": "f57d46a2-502a-4e75-a8b5-b8ec5eba2a6e"
      },
      "execution_count": 43,
      "outputs": [
        {
          "output_type": "stream",
          "name": "stdout",
          "text": [
            "ljust values is  abc**\n",
            "rjust value is  **abc\n",
            "center vaalue is  *abc*\n"
          ]
        }
      ]
    },
    {
      "cell_type": "code",
      "source": [
        "#10. What is the best way to remove whitespace characters from the start or end?\n",
        "\n",
        "\"\"\"\n",
        "Ans10:-\n",
        "\n",
        "lstrip() method will remove whitespaces from left of the string.\n",
        "\n",
        "rstrip() method will remove whitespaces from right of the string.\n",
        "\n",
        "\"\"\""
      ],
      "metadata": {
        "colab": {
          "base_uri": "https://localhost:8080/",
          "height": 35
        },
        "id": "Orhekfrh1cQ2",
        "outputId": "58c5fb1f-1a4c-4a1b-8456-74cf9f212492"
      },
      "execution_count": 44,
      "outputs": [
        {
          "output_type": "execute_result",
          "data": {
            "text/plain": [
              "'\\nAns10:-\\n\\nlstrip() method will remove whitespaces from left of the string.\\n\\nrstrip() method will remove whitespaces from right of the string.\\n\\n'"
            ],
            "application/vnd.google.colaboratory.intrinsic+json": {
              "type": "string"
            }
          },
          "metadata": {},
          "execution_count": 44
        }
      ]
    },
    {
      "cell_type": "code",
      "source": [],
      "metadata": {
        "id": "ZU2RCuuL2gp2"
      },
      "execution_count": null,
      "outputs": []
    }
  ]
}