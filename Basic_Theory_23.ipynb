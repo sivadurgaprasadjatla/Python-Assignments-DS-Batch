{
  "nbformat": 4,
  "nbformat_minor": 0,
  "metadata": {
    "colab": {
      "provenance": []
    },
    "kernelspec": {
      "name": "python3",
      "display_name": "Python 3"
    },
    "language_info": {
      "name": "python"
    }
  },
  "cells": [
    {
      "cell_type": "markdown",
      "source": [
        "**1. What is the result of the code, and why?**\n",
        "\n",
        ">>> def func(a, b=6, c=8):\n",
        "\n",
        "          print(a, b, c)\n",
        "\n",
        ">>> func(1, 2)\n",
        "\n",
        "\n",
        "Answer: \n",
        "\n",
        "The result of the abpve code is 1,2,8 . here b is default argument with value 6 and c as 8. if we provide any value to the b and c arguments it will take it other wise it will excecute with default values."
      ],
      "metadata": {
        "id": "-tVoM5fmjCL3"
      }
    },
    {
      "cell_type": "code",
      "source": [
        "def func(a,b =6,c =8):\n",
        "  print(a,b,c)\n",
        "\n",
        "func(1,2)"
      ],
      "metadata": {
        "colab": {
          "base_uri": "https://localhost:8080/"
        },
        "id": "ObPaNQA-jEcA",
        "outputId": "cb9359af-4aa1-4613-8dc3-6ee72b449c3a"
      },
      "execution_count": 1,
      "outputs": [
        {
          "output_type": "stream",
          "name": "stdout",
          "text": [
            "1 2 8\n"
          ]
        }
      ]
    },
    {
      "cell_type": "markdown",
      "source": [
        "**2. What is the result of this code, and why?**\n",
        "\n",
        ">>> def func(a, b, c=5):\n",
        "\n",
        "          print(a, b, c)\n",
        "\n",
        ">>> func(1, c=3, b=2)\n",
        "\n",
        "Answer : The out put of the above code is 1,2,3 . a,b are non default variables and c is default variable with value 5. But while calling the function we have given c value as 3 . So, the out put will be 1,2,3"
      ],
      "metadata": {
        "id": "Vwh5Wq8Ojt9e"
      }
    },
    {
      "cell_type": "code",
      "source": [
        "def func(a, b, c=5):\n",
        "\n",
        "          print(a, b, c)\n",
        "\n",
        "func(1, c=3, b=2)\n"
      ],
      "metadata": {
        "colab": {
          "base_uri": "https://localhost:8080/"
        },
        "id": "g8QJ4gI2jqU6",
        "outputId": "f1a3a6aa-74ea-4af7-e223-6b1e09c77f70"
      },
      "execution_count": 2,
      "outputs": [
        {
          "output_type": "stream",
          "name": "stdout",
          "text": [
            "1 2 3\n"
          ]
        }
      ]
    },
    {
      "cell_type": "markdown",
      "source": [
        "**3. How about this code: what is its result, and why?**\n",
        "\n",
        ">>> def func(a, *pargs):\n",
        "\n",
        "                  \n",
        "                print(a, pargs)\n",
        "\n",
        "\n",
        "Answer : it will take n number of arguments with atleast one variable for 'a'.\n"
      ],
      "metadata": {
        "id": "D5IwcPQokQ_4"
      }
    },
    {
      "cell_type": "code",
      "source": [
        "def func(a, *pargs):\n",
        "      print(a, pargs)\n",
        "\n",
        "func(1)\n"
      ],
      "metadata": {
        "colab": {
          "base_uri": "https://localhost:8080/"
        },
        "id": "w0s9-r7Qj4rK",
        "outputId": "2e031ffd-6647-4f02-e627-95f8f4976f21"
      },
      "execution_count": 9,
      "outputs": [
        {
          "output_type": "stream",
          "name": "stdout",
          "text": [
            "1 ()\n"
          ]
        }
      ]
    },
    {
      "cell_type": "code",
      "source": [
        "def func(a, *k):\n",
        "      print(a, k)\n",
        "\n",
        "func(1,2,3,4,5,6)"
      ],
      "metadata": {
        "colab": {
          "base_uri": "https://localhost:8080/"
        },
        "id": "NBEYSABLko7Y",
        "outputId": "360fcd19-d161-4e73-fd6c-8bd37f6b5c79"
      },
      "execution_count": 10,
      "outputs": [
        {
          "output_type": "stream",
          "name": "stdout",
          "text": [
            "1 (2, 3, 4, 5, 6)\n"
          ]
        }
      ]
    },
    {
      "cell_type": "markdown",
      "source": [
        "**4. What does this code print, and why?**\n",
        "\n",
        "def func(a, **kargs):\n",
        "\n",
        "        print(a, kargs)\n",
        "\n",
        "func(a=1, c=3, b=2)\n",
        "\n",
        "Answer : it will take argumnet 'a' value as 1 and take n number of arguments in key value pair format(dictoionary)."
      ],
      "metadata": {
        "id": "tpZiMbjwloFJ"
      }
    },
    {
      "cell_type": "code",
      "source": [
        "def func(a, **kargs):\n",
        "\n",
        "        print(a, kargs)\n",
        "\n",
        "func(a=1, c=3, b=2)"
      ],
      "metadata": {
        "colab": {
          "base_uri": "https://localhost:8080/"
        },
        "id": "xZQLWKhJlA53",
        "outputId": "757a1f1b-30bc-4a38-f9bf-37c26531eb54"
      },
      "execution_count": 11,
      "outputs": [
        {
          "output_type": "stream",
          "name": "stdout",
          "text": [
            "1 {'c': 3, 'b': 2}\n"
          ]
        }
      ]
    },
    {
      "cell_type": "markdown",
      "source": [
        "**5. What gets printed by this, and explain?**\n",
        "\n",
        "def func(a, b, c=8, d=5):\n",
        "\n",
        "     print(a, b, c, d)\n",
        "\n",
        "func(1, *(5, 6))\n",
        "\n",
        "Answer : The varibale a = 1, b= 5,c =6,d =5\n",
        "\n"
      ],
      "metadata": {
        "id": "Mq-Ythz5mQmf"
      }
    },
    {
      "cell_type": "code",
      "source": [
        "def func(a, b, c=8, d=5):\n",
        "\n",
        "     print(a, b, c, d)\n",
        "\n",
        "func(1,*(5, 6))\n"
      ],
      "metadata": {
        "colab": {
          "base_uri": "https://localhost:8080/"
        },
        "id": "GvBM1es4l4mY",
        "outputId": "f9329a16-e301-4696-a7a8-7ae2c6a9fd4e"
      },
      "execution_count": 15,
      "outputs": [
        {
          "output_type": "stream",
          "name": "stdout",
          "text": [
            "1 5 6 5\n"
          ]
        }
      ]
    },
    {
      "cell_type": "markdown",
      "source": [
        "**6. what is the result of this, and explain?**\n",
        "\n",
        "def func(a, b, c): \n",
        "\n",
        "  a = 2; b[0] = 'x'; c['a'] = 'y'\n",
        "   \n",
        "   \n",
        "l=1; m=[1]; n={'a':0}\n",
        "\n",
        "func(l, m, n)\n",
        "\n",
        "l, m, n\n"
      ],
      "metadata": {
        "id": "j2k96tfEm1Go"
      }
    },
    {
      "cell_type": "code",
      "source": [
        "def func(a, b, c): \n",
        "  a = 2; b[0] = 'x'; c['a'] = 'y'\n",
        "\n",
        "\n",
        "l=1; m=[1]; n={'a':0}\n",
        "\n",
        "func(l, m, n)\n"
      ],
      "metadata": {
        "id": "XUBGM8__mawc"
      },
      "execution_count": 19,
      "outputs": []
    },
    {
      "cell_type": "code",
      "source": [
        "print(l,m,n)  "
      ],
      "metadata": {
        "colab": {
          "base_uri": "https://localhost:8080/"
        },
        "id": "4kcR8pW_nam1",
        "outputId": "98538f58-e077-4196-fb55-bc126e812060"
      },
      "execution_count": 21,
      "outputs": [
        {
          "output_type": "stream",
          "name": "stdout",
          "text": [
            "1 ['x'] {'a': 'y'}\n"
          ]
        }
      ]
    },
    {
      "cell_type": "code",
      "source": [],
      "metadata": {
        "id": "cqJi4GC3pzep"
      },
      "execution_count": null,
      "outputs": []
    }
  ]
}