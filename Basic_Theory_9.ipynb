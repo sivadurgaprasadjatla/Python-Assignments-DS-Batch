{
  "nbformat": 4,
  "nbformat_minor": 0,
  "metadata": {
    "colab": {
      "provenance": []
    },
    "kernelspec": {
      "name": "python3",
      "display_name": "Python 3"
    },
    "language_info": {
      "name": "python"
    }
  },
  "cells": [
    {
      "cell_type": "markdown",
      "source": [
        "**1. To what does a relative path refer?**\n",
        "\n",
        "Answer :Relative paths are relative to the current working directory.\n",
        "\n",
        "In Python os.path.relpath(path,start)"
      ],
      "metadata": {
        "id": "bMkmz9PDbQjY"
      }
    },
    {
      "cell_type": "markdown",
      "source": [
        "**2. What does an absolute path start with your operating system?**\n",
        "\n",
        "Answer : Absolute paths start with the root folder, such as / or C:."
      ],
      "metadata": {
        "id": "PDik8NtHckcJ"
      }
    },
    {
      "cell_type": "markdown",
      "source": [
        "**3. What do the functions os.getcwd() and os.chdir() do?**\n",
        "\n",
        "Answer:\n",
        "The os.getcwd() function returns the current working directory. The os.chdir() function changes the current working directory."
      ],
      "metadata": {
        "id": "urH3tkGscme0"
      }
    },
    {
      "cell_type": "markdown",
      "source": [
        "**4. What are the . and .. folders?**\n",
        "\n",
        "Answer : The . folder is the current folder, and .. is the parent folder."
      ],
      "metadata": {
        "id": "iVRBt2vlcq1a"
      }
    },
    {
      "cell_type": "markdown",
      "source": [
        "**5. In C:\\bacon\\eggs\\spam.txt, which part is the dir name, and which part is the base name?**\n",
        "\n",
        "Answer :C:\\bacon\\eggs is the dir name, while spam.txt is the base name."
      ],
      "metadata": {
        "id": "AgGb1QU8cvBp"
      }
    },
    {
      "cell_type": "markdown",
      "source": [
        "**6. What are the three “mode” arguments that can be passed to the open() function?**\n",
        "\n",
        "Answer : Read ='r', Write = 'w' ,append ='a'"
      ],
      "metadata": {
        "id": "RAEzbsUjcz0e"
      }
    },
    {
      "cell_type": "markdown",
      "source": [
        "**7. What happens if an existing file is opened in write mode?**\n",
        "\n",
        "Answer : the data previously stored in that data will be completly erased for over write."
      ],
      "metadata": {
        "id": "mHb8BCbcc4Ed"
      }
    },
    {
      "cell_type": "markdown",
      "source": [
        "**8. How do you tell the difference between read() and readlines()?**\n",
        "\n",
        "Answer :The read() method returns the file’s entire contents as a single string value. The readlines() method returns a list of strings, where each string is a line from the file’s contents."
      ],
      "metadata": {
        "id": "hInfNnA1dLj5"
      }
    },
    {
      "cell_type": "markdown",
      "source": [
        "**9. What data structure does a shelf value resemble?**\n",
        "\n",
        "Answer : A shelf value resembles a dictionary value; it has keys and values, along with keys() and values() methods that work similarly to the dictionary methods of the same names."
      ],
      "metadata": {
        "id": "qLpcfgC9dLcq"
      }
    },
    {
      "cell_type": "code",
      "source": [],
      "metadata": {
        "id": "WiP1m8TacTa1"
      },
      "execution_count": null,
      "outputs": []
    }
  ]
}